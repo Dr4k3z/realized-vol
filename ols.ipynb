{
 "cells": [
  {
   "cell_type": "code",
   "execution_count": 92,
   "metadata": {},
   "outputs": [],
   "source": [
    "import numpy as np\n",
    "import pandas as pd\n",
    "import matplotlib.pyplot as plt\n",
    "import seaborn as sns\n",
    "from sklearn.metrics import r2_score\n",
    "import glob"
   ]
  },
  {
   "cell_type": "code",
   "execution_count": 93,
   "metadata": {},
   "outputs": [
    {
     "data": {
      "text/plain": [
       "(428932, 3)"
      ]
     },
     "execution_count": 93,
     "metadata": {},
     "output_type": "execute_result"
    }
   ],
   "source": [
    "train = pd.read_csv(\"optiver-realized-volatility-prediction/train.csv\")\n",
    "\n",
    "train.shape"
   ]
  },
  {
   "cell_type": "code",
   "execution_count": 94,
   "metadata": {},
   "outputs": [],
   "source": [
    "order_book_training = glob.glob('optiver-realized-volatility-prediction/book_train.parquet/*')"
   ]
  },
  {
   "cell_type": "code",
   "execution_count": 95,
   "metadata": {},
   "outputs": [],
   "source": [
    "def wap2vol(df):\n",
    "    # wap2vol stands for WAP to Realized Volatility\n",
    "    temp = np.log(df).diff() # calculating tik to tik returns\n",
    "    # returning realized volatility\n",
    "    return np.sqrt(np.sum(temp**2)) \n"
   ]
  },
  {
   "cell_type": "code",
   "execution_count": 96,
   "metadata": {},
   "outputs": [],
   "source": [
    "def rel_vol_time_id(path):\n",
    "    # book: book is an order book\n",
    "    book = pd.read_parquet(path) # order book for a stock id loaded\n",
    "    # calculating WAP\n",
    "    p1 = book[\"bid_price1\"]\n",
    "    p2 = book[\"ask_price1\"]\n",
    "    s1 = book[\"bid_size1\"]\n",
    "    s2 = book[\"ask_size1\"]\n",
    "    \n",
    "    book[\"WAP\"] = (p1*s2 + p2*s1) / (s1 + s2)\n",
    "    # calculating realized volatility for each time_id\n",
    "    transbook = book.groupby(\"time_id\")[\"WAP\"].agg(wap2vol)\n",
    "    return transbook"
   ]
  },
  {
   "cell_type": "code",
   "execution_count": 97,
   "metadata": {},
   "outputs": [
    {
     "name": "stdout",
     "output_type": "stream",
     "text": [
      "CPU times: user 40.3 s, sys: 1.48 s, total: 41.8 s\n",
      "Wall time: 39.1 s\n"
     ]
    }
   ],
   "source": [
    "%%time \n",
    "stock_id = []\n",
    "time_id = []\n",
    "relvol = []\n",
    "for i in order_book_training:\n",
    "    # finding the stock_id\n",
    "    temp_stock = int(i.split(\"=\")[1])\n",
    "    # find the realized volatility for all time_id of temp_stock\n",
    "    temp_relvol = rel_vol_time_id(i)\n",
    "    stock_id += [temp_stock]*temp_relvol.shape[0]\n",
    "    time_id += list(temp_relvol.index)\n",
    "    relvol += list(temp_relvol)"
   ]
  },
  {
   "cell_type": "code",
   "execution_count": 98,
   "metadata": {},
   "outputs": [
    {
     "data": {
      "text/html": [
       "<div>\n",
       "<style scoped>\n",
       "    .dataframe tbody tr th:only-of-type {\n",
       "        vertical-align: middle;\n",
       "    }\n",
       "\n",
       "    .dataframe tbody tr th {\n",
       "        vertical-align: top;\n",
       "    }\n",
       "\n",
       "    .dataframe thead th {\n",
       "        text-align: right;\n",
       "    }\n",
       "</style>\n",
       "<table border=\"1\" class=\"dataframe\">\n",
       "  <thead>\n",
       "    <tr style=\"text-align: right;\">\n",
       "      <th></th>\n",
       "      <th>stock_id</th>\n",
       "      <th>time_id</th>\n",
       "      <th>volatility</th>\n",
       "    </tr>\n",
       "  </thead>\n",
       "  <tbody>\n",
       "    <tr>\n",
       "      <th>0</th>\n",
       "      <td>17</td>\n",
       "      <td>5</td>\n",
       "      <td>0.004091</td>\n",
       "    </tr>\n",
       "    <tr>\n",
       "      <th>1</th>\n",
       "      <td>17</td>\n",
       "      <td>11</td>\n",
       "      <td>0.002155</td>\n",
       "    </tr>\n",
       "    <tr>\n",
       "      <th>2</th>\n",
       "      <td>17</td>\n",
       "      <td>16</td>\n",
       "      <td>0.002566</td>\n",
       "    </tr>\n",
       "    <tr>\n",
       "      <th>3</th>\n",
       "      <td>17</td>\n",
       "      <td>31</td>\n",
       "      <td>0.002221</td>\n",
       "    </tr>\n",
       "    <tr>\n",
       "      <th>4</th>\n",
       "      <td>17</td>\n",
       "      <td>62</td>\n",
       "      <td>0.002155</td>\n",
       "    </tr>\n",
       "    <tr>\n",
       "      <th>...</th>\n",
       "      <td>...</td>\n",
       "      <td>...</td>\n",
       "      <td>...</td>\n",
       "    </tr>\n",
       "    <tr>\n",
       "      <th>428927</th>\n",
       "      <td>98</td>\n",
       "      <td>32751</td>\n",
       "      <td>0.002572</td>\n",
       "    </tr>\n",
       "    <tr>\n",
       "      <th>428928</th>\n",
       "      <td>98</td>\n",
       "      <td>32753</td>\n",
       "      <td>0.001231</td>\n",
       "    </tr>\n",
       "    <tr>\n",
       "      <th>428929</th>\n",
       "      <td>98</td>\n",
       "      <td>32758</td>\n",
       "      <td>0.002129</td>\n",
       "    </tr>\n",
       "    <tr>\n",
       "      <th>428930</th>\n",
       "      <td>98</td>\n",
       "      <td>32763</td>\n",
       "      <td>0.004120</td>\n",
       "    </tr>\n",
       "    <tr>\n",
       "      <th>428931</th>\n",
       "      <td>98</td>\n",
       "      <td>32767</td>\n",
       "      <td>0.002213</td>\n",
       "    </tr>\n",
       "  </tbody>\n",
       "</table>\n",
       "<p>428932 rows × 3 columns</p>\n",
       "</div>"
      ],
      "text/plain": [
       "        stock_id  time_id  volatility\n",
       "0             17        5    0.004091\n",
       "1             17       11    0.002155\n",
       "2             17       16    0.002566\n",
       "3             17       31    0.002221\n",
       "4             17       62    0.002155\n",
       "...          ...      ...         ...\n",
       "428927        98    32751    0.002572\n",
       "428928        98    32753    0.001231\n",
       "428929        98    32758    0.002129\n",
       "428930        98    32763    0.004120\n",
       "428931        98    32767    0.002213\n",
       "\n",
       "[428932 rows x 3 columns]"
      ]
     },
     "execution_count": 98,
     "metadata": {},
     "output_type": "execute_result"
    }
   ],
   "source": [
    "past_volatility = pd.DataFrame({\"stock_id\": stock_id, \"time_id\": time_id, \"volatility\": relvol})\n",
    "past_volatility"
   ]
  },
  {
   "cell_type": "code",
   "execution_count": 99,
   "metadata": {},
   "outputs": [
    {
     "name": "stdout",
     "output_type": "stream",
     "text": [
      "The R2 score of the naive prediction for training set is 0.628\n"
     ]
    }
   ],
   "source": [
    "joined = train.merge(past_volatility, on = [\"stock_id\",\"time_id\"], how = \"left\")\n",
    "R2 = round(r2_score(y_true = joined['target'], y_pred = joined['volatility']),3)\n",
    "print(f'The R2 score of the naive prediction for training set is {R2}')"
   ]
  },
  {
   "cell_type": "code",
   "execution_count": 100,
   "metadata": {},
   "outputs": [
    {
     "data": {
      "text/html": [
       "<div>\n",
       "<style scoped>\n",
       "    .dataframe tbody tr th:only-of-type {\n",
       "        vertical-align: middle;\n",
       "    }\n",
       "\n",
       "    .dataframe tbody tr th {\n",
       "        vertical-align: top;\n",
       "    }\n",
       "\n",
       "    .dataframe thead th {\n",
       "        text-align: right;\n",
       "    }\n",
       "</style>\n",
       "<table border=\"1\" class=\"dataframe\">\n",
       "  <thead>\n",
       "    <tr style=\"text-align: right;\">\n",
       "      <th></th>\n",
       "      <th>stock_id</th>\n",
       "      <th>time_id</th>\n",
       "      <th>target</th>\n",
       "      <th>volatility</th>\n",
       "    </tr>\n",
       "  </thead>\n",
       "  <tbody>\n",
       "    <tr>\n",
       "      <th>0</th>\n",
       "      <td>0</td>\n",
       "      <td>5</td>\n",
       "      <td>0.004136</td>\n",
       "      <td>0.004499</td>\n",
       "    </tr>\n",
       "    <tr>\n",
       "      <th>1</th>\n",
       "      <td>0</td>\n",
       "      <td>11</td>\n",
       "      <td>0.001445</td>\n",
       "      <td>0.001204</td>\n",
       "    </tr>\n",
       "    <tr>\n",
       "      <th>2</th>\n",
       "      <td>0</td>\n",
       "      <td>16</td>\n",
       "      <td>0.002168</td>\n",
       "      <td>0.002369</td>\n",
       "    </tr>\n",
       "    <tr>\n",
       "      <th>3</th>\n",
       "      <td>0</td>\n",
       "      <td>31</td>\n",
       "      <td>0.002195</td>\n",
       "      <td>0.002574</td>\n",
       "    </tr>\n",
       "    <tr>\n",
       "      <th>4</th>\n",
       "      <td>0</td>\n",
       "      <td>62</td>\n",
       "      <td>0.001747</td>\n",
       "      <td>0.001894</td>\n",
       "    </tr>\n",
       "    <tr>\n",
       "      <th>...</th>\n",
       "      <td>...</td>\n",
       "      <td>...</td>\n",
       "      <td>...</td>\n",
       "      <td>...</td>\n",
       "    </tr>\n",
       "    <tr>\n",
       "      <th>428927</th>\n",
       "      <td>126</td>\n",
       "      <td>32751</td>\n",
       "      <td>0.003461</td>\n",
       "      <td>0.003691</td>\n",
       "    </tr>\n",
       "    <tr>\n",
       "      <th>428928</th>\n",
       "      <td>126</td>\n",
       "      <td>32753</td>\n",
       "      <td>0.003113</td>\n",
       "      <td>0.004104</td>\n",
       "    </tr>\n",
       "    <tr>\n",
       "      <th>428929</th>\n",
       "      <td>126</td>\n",
       "      <td>32758</td>\n",
       "      <td>0.004070</td>\n",
       "      <td>0.003118</td>\n",
       "    </tr>\n",
       "    <tr>\n",
       "      <th>428930</th>\n",
       "      <td>126</td>\n",
       "      <td>32763</td>\n",
       "      <td>0.003357</td>\n",
       "      <td>0.003661</td>\n",
       "    </tr>\n",
       "    <tr>\n",
       "      <th>428931</th>\n",
       "      <td>126</td>\n",
       "      <td>32767</td>\n",
       "      <td>0.002090</td>\n",
       "      <td>0.002091</td>\n",
       "    </tr>\n",
       "  </tbody>\n",
       "</table>\n",
       "<p>428932 rows × 4 columns</p>\n",
       "</div>"
      ],
      "text/plain": [
       "        stock_id  time_id    target  volatility\n",
       "0              0        5  0.004136    0.004499\n",
       "1              0       11  0.001445    0.001204\n",
       "2              0       16  0.002168    0.002369\n",
       "3              0       31  0.002195    0.002574\n",
       "4              0       62  0.001747    0.001894\n",
       "...          ...      ...       ...         ...\n",
       "428927       126    32751  0.003461    0.003691\n",
       "428928       126    32753  0.003113    0.004104\n",
       "428929       126    32758  0.004070    0.003118\n",
       "428930       126    32763  0.003357    0.003661\n",
       "428931       126    32767  0.002090    0.002091\n",
       "\n",
       "[428932 rows x 4 columns]"
      ]
     },
     "execution_count": 100,
     "metadata": {},
     "output_type": "execute_result"
    }
   ],
   "source": [
    "joined"
   ]
  },
  {
   "cell_type": "code",
   "execution_count": 101,
   "metadata": {},
   "outputs": [],
   "source": [
    "def rmspe(y_true, y_pred):\n",
    "    return  (np.sqrt(np.mean(np.square((y_true - y_pred) / y_true))))"
   ]
  },
  {
   "cell_type": "code",
   "execution_count": 102,
   "metadata": {},
   "outputs": [
    {
     "name": "stdout",
     "output_type": "stream",
     "text": [
      "The RMSPE score of the native prediciton for the training set is 0.34135449018801606\n"
     ]
    }
   ],
   "source": [
    "print(f'The RMSPE score of the native prediciton for the training set is {rmspe(joined[\"target\"], joined[\"volatility\"])}')"
   ]
  },
  {
   "cell_type": "markdown",
   "metadata": {},
   "source": [
    "## OLS"
   ]
  },
  {
   "cell_type": "code",
   "execution_count": 147,
   "metadata": {},
   "outputs": [],
   "source": [
    "from sklearn.linear_model import LinearRegression\n",
    "from sklearn.preprocessing import PolynomialFeatures\n",
    "\n",
    "# for training\n",
    "def linear_training(X,y,degree):\n",
    "    # instantiating polynomial features\n",
    "    polyfeat = PolynomialFeatures(degree = degree)\n",
    "    linreg = LinearRegression()\n",
    "    # preprocessing the training data\n",
    "    x = np.array(X).reshape(-1,1)\n",
    "    # creating the polynomial features\n",
    "    X_ = polyfeat.fit_transform(x)\n",
    "    # training the model\n",
    "    weights = 1/np.square(y)\n",
    "    return linreg.fit(X_, np.array(y).reshape(-1,1), sample_weight = weights)\n",
    "\n",
    "\n",
    "stock_id_train = train.stock_id.unique() # all stock_id for the train set\n",
    "models = {} # dictionary for holding trained models for each stock_id\n",
    "degree = 2\n",
    "for i in stock_id_train:\n",
    "    temp = joined[joined[\"stock_id\"]==i]\n",
    "    X = temp[\"volatility\"]\n",
    "    y = temp[\"target\"]\n",
    "    models[i] = linear_training(X,y,degree)"
   ]
  },
  {
   "cell_type": "code",
   "execution_count": 148,
   "metadata": {},
   "outputs": [
    {
     "data": {
      "image/png": "[encoded data removed]",
      "text/plain": [
       "<Figure size 800x500 with 1 Axes>"
      ]
     },
     "metadata": {},
     "output_type": "display_data"
    }
   ],
   "source": [
    "import matplotlib.pyplot as plt\n",
    "import numpy as np\n",
    "\n",
    "def plot_model_fit(stock_id, models, joined, degree):\n",
    "    # Extract data for this stock\n",
    "    temp = joined[joined[\"stock_id\"] == stock_id]\n",
    "    X = temp[\"volatility\"].values\n",
    "    y = temp[\"target\"].values\n",
    "    \n",
    "    # Get model for this stock\n",
    "    model = models[stock_id]\n",
    "    \n",
    "    # Prepare a range of volatility values for smooth curve\n",
    "    x_range = np.linspace(X.min(), X.max(), 300).reshape(-1, 1)\n",
    "    polyfeat = PolynomialFeatures(degree=degree)\n",
    "    X_poly = polyfeat.fit_transform(x_range)\n",
    "    \n",
    "    # Predict with the model\n",
    "    y_pred = model.predict(X_poly)\n",
    "    \n",
    "    # Plot\n",
    "    plt.figure(figsize=(8, 5))\n",
    "    plt.scatter(X, y, color='blue', label='Actual Data')\n",
    "    plt.plot(x_range, y_pred, color='red', linewidth=2, label='Polynomial Fit')\n",
    "    plt.title(f\"Polynomial Regression Fit (Stock ID: {stock_id})\")\n",
    "    plt.xlabel(\"Volatility\")\n",
    "    plt.ylabel(\"Target\")\n",
    "    plt.legend()\n",
    "    plt.grid(True)\n",
    "    plt.show()\n",
    "\n",
    "# Example: plot for the first stock ID\n",
    "plot_model_fit(stock_id_train[0], models, joined, degree)"
   ]
  },
  {
   "cell_type": "code",
   "execution_count": 153,
   "metadata": {},
   "outputs": [],
   "source": [
    "def linear_inference(models, stock_id, past_volatility, degree):\n",
    "    model = models[stock_id]\n",
    "    polyfeat = PolynomialFeatures(degree = degree)\n",
    "    return model.predict(polyfeat.fit_transform([[past_volatility]]))[0][0]"
   ]
  },
  {
   "cell_type": "code",
   "execution_count": 154,
   "metadata": {},
   "outputs": [],
   "source": [
    "submission = pd.DataFrame({\"stock_id\": [], \"time_id\": [], \"pred\": []})\n",
    "\n",
    "submission[[\"stock_id\",\"time_id\"]] = past_volatility[[\"stock_id\",\"time_id\"]]"
   ]
  },
  {
   "cell_type": "code",
   "execution_count": 140,
   "metadata": {},
   "outputs": [],
   "source": [
    "submission[\"target\"] = past_volatility.apply(lambda x: linear_inference(models,\\\n",
    "                                                                            x.stock_id,\\\n",
    "                                                                            x.volatility,\\\n",
    "                                                                            degree),\\\n",
    "                                                 axis = 1)"
   ]
  },
  {
   "cell_type": "code",
   "execution_count": 141,
   "metadata": {},
   "outputs": [],
   "source": [
    "submission.drop(columns = [\"pred\"], inplace = True)"
   ]
  },
  {
   "cell_type": "code",
   "execution_count": 142,
   "metadata": {},
   "outputs": [],
   "source": [
    "submission.sort_values(by = [\"stock_id\",\"time_id\"], inplace = True)"
   ]
  },
  {
   "cell_type": "code",
   "execution_count": 143,
   "metadata": {},
   "outputs": [],
   "source": [
    "submission.rename(columns = {\"target\": \"pred\"}, inplace = True)"
   ]
  },
  {
   "cell_type": "code",
   "execution_count": 144,
   "metadata": {},
   "outputs": [
    {
     "name": "stdout",
     "output_type": "stream",
     "text": [
      "The R2 score of the naive prediction for training set is 0.737\n"
     ]
    }
   ],
   "source": [
    "joined2 = train.merge(submission, on = [\"stock_id\",\"time_id\"], how = \"left\")\n",
    "R2 = round(r2_score(y_true = joined2['target'], y_pred = joined2['pred']),3)\n",
    "print(f'The R2 score of the naive prediction for training set is {R2}')"
   ]
  },
  {
   "cell_type": "code",
   "execution_count": 145,
   "metadata": {},
   "outputs": [
    {
     "data": {
      "text/html": [
       "<div>\n",
       "<style scoped>\n",
       "    .dataframe tbody tr th:only-of-type {\n",
       "        vertical-align: middle;\n",
       "    }\n",
       "\n",
       "    .dataframe tbody tr th {\n",
       "        vertical-align: top;\n",
       "    }\n",
       "\n",
       "    .dataframe thead th {\n",
       "        text-align: right;\n",
       "    }\n",
       "</style>\n",
       "<table border=\"1\" class=\"dataframe\">\n",
       "  <thead>\n",
       "    <tr style=\"text-align: right;\">\n",
       "      <th></th>\n",
       "      <th>stock_id</th>\n",
       "      <th>time_id</th>\n",
       "      <th>target</th>\n",
       "      <th>pred</th>\n",
       "    </tr>\n",
       "  </thead>\n",
       "  <tbody>\n",
       "    <tr>\n",
       "      <th>0</th>\n",
       "      <td>0</td>\n",
       "      <td>5</td>\n",
       "      <td>0.004136</td>\n",
       "      <td>0.003546</td>\n",
       "    </tr>\n",
       "    <tr>\n",
       "      <th>1</th>\n",
       "      <td>0</td>\n",
       "      <td>11</td>\n",
       "      <td>0.001445</td>\n",
       "      <td>0.001338</td>\n",
       "    </tr>\n",
       "    <tr>\n",
       "      <th>2</th>\n",
       "      <td>0</td>\n",
       "      <td>16</td>\n",
       "      <td>0.002168</td>\n",
       "      <td>0.002126</td>\n",
       "    </tr>\n",
       "    <tr>\n",
       "      <th>3</th>\n",
       "      <td>0</td>\n",
       "      <td>31</td>\n",
       "      <td>0.002195</td>\n",
       "      <td>0.002265</td>\n",
       "    </tr>\n",
       "    <tr>\n",
       "      <th>4</th>\n",
       "      <td>0</td>\n",
       "      <td>62</td>\n",
       "      <td>0.001747</td>\n",
       "      <td>0.001805</td>\n",
       "    </tr>\n",
       "    <tr>\n",
       "      <th>...</th>\n",
       "      <td>...</td>\n",
       "      <td>...</td>\n",
       "      <td>...</td>\n",
       "      <td>...</td>\n",
       "    </tr>\n",
       "    <tr>\n",
       "      <th>428927</th>\n",
       "      <td>126</td>\n",
       "      <td>32751</td>\n",
       "      <td>0.003461</td>\n",
       "      <td>0.003363</td>\n",
       "    </tr>\n",
       "    <tr>\n",
       "      <th>428928</th>\n",
       "      <td>126</td>\n",
       "      <td>32753</td>\n",
       "      <td>0.003113</td>\n",
       "      <td>0.003673</td>\n",
       "    </tr>\n",
       "    <tr>\n",
       "      <th>428929</th>\n",
       "      <td>126</td>\n",
       "      <td>32758</td>\n",
       "      <td>0.004070</td>\n",
       "      <td>0.002928</td>\n",
       "    </tr>\n",
       "    <tr>\n",
       "      <th>428930</th>\n",
       "      <td>126</td>\n",
       "      <td>32763</td>\n",
       "      <td>0.003357</td>\n",
       "      <td>0.003341</td>\n",
       "    </tr>\n",
       "    <tr>\n",
       "      <th>428931</th>\n",
       "      <td>126</td>\n",
       "      <td>32767</td>\n",
       "      <td>0.002090</td>\n",
       "      <td>0.002138</td>\n",
       "    </tr>\n",
       "  </tbody>\n",
       "</table>\n",
       "<p>428932 rows × 4 columns</p>\n",
       "</div>"
      ],
      "text/plain": [
       "        stock_id  time_id    target      pred\n",
       "0              0        5  0.004136  0.003546\n",
       "1              0       11  0.001445  0.001338\n",
       "2              0       16  0.002168  0.002126\n",
       "3              0       31  0.002195  0.002265\n",
       "4              0       62  0.001747  0.001805\n",
       "...          ...      ...       ...       ...\n",
       "428927       126    32751  0.003461  0.003363\n",
       "428928       126    32753  0.003113  0.003673\n",
       "428929       126    32758  0.004070  0.002928\n",
       "428930       126    32763  0.003357  0.003341\n",
       "428931       126    32767  0.002090  0.002138\n",
       "\n",
       "[428932 rows x 4 columns]"
      ]
     },
     "execution_count": 145,
     "metadata": {},
     "output_type": "execute_result"
    }
   ],
   "source": [
    "joined2"
   ]
  },
  {
   "cell_type": "code",
   "execution_count": 146,
   "metadata": {},
   "outputs": [
    {
     "data": {
      "text/plain": [
       "np.float64(0.24998571682357393)"
      ]
     },
     "execution_count": 146,
     "metadata": {},
     "output_type": "execute_result"
    }
   ],
   "source": [
    "rmspe(joined2[\"target\"], joined2[\"pred\"])"
   ]
  },
  {
   "cell_type": "code",
   "execution_count": null,
   "metadata": {},
   "outputs": [],
   "source": []
  }
 ],
 "metadata": {
  "kernelspec": {
   "display_name": "nnet",
   "language": "python",
   "name": "python3"
  },
  "language_info": {
   "codemirror_mode": {
    "name": "ipython",
    "version": 3
   },
   "file_extension": ".py",
   "mimetype": "text/x-python",
   "name": "python",
   "nbconvert_exporter": "python",
   "pygments_lexer": "ipython3",
   "version": "3.10.16"
  }
 },
 "nbformat": 4,
 "nbformat_minor": 2
}
