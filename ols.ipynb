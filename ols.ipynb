{
 "cells": [
  {
   "cell_type": "code",
   "execution_count": 19,
   "metadata": {},
   "outputs": [],
   "source": [
    "import numpy as np\n",
    "from ETL.LinearRegressionETL import LinearRegressionETL\n",
    "from ETL.utils import rmspe"
   ]
  },
  {
   "cell_type": "code",
   "execution_count": 20,
   "metadata": {},
   "outputs": [],
   "source": [
    "etl = LinearRegressionETL(\n",
    "    orderbook_path=\"optiver-realized-volatility-prediction/book_train.parquet/*\",\n",
    "    train_path='optiver-realized-volatility-prediction/train.csv'\n",
    ")"
   ]
  },
  {
   "cell_type": "code",
   "execution_count": 21,
   "metadata": {},
   "outputs": [
    {
     "name": "stderr",
     "output_type": "stream",
     "text": [
      "  0%|          | 0/112 [00:40<?, ?it/s]0/112 [00:00<?, ?file/s]\n",
      "Denormalizing prices:   0%|          | 0/112 [00:40<?, ?file/s]"
     ]
    },
    {
     "name": "stdout",
     "output_type": "stream",
     "text": [
      "CPU times: user 167 ms, sys: 189 ms, total: 355 ms\n",
      "Wall time: 40.7 s\n"
     ]
    },
    {
     "name": "stderr",
     "output_type": "stream",
     "text": [
      "\n"
     ]
    },
    {
     "data": {
      "text/html": [
       "<div>\n",
       "<style scoped>\n",
       "    .dataframe tbody tr th:only-of-type {\n",
       "        vertical-align: middle;\n",
       "    }\n",
       "\n",
       "    .dataframe tbody tr th {\n",
       "        vertical-align: top;\n",
       "    }\n",
       "\n",
       "    .dataframe thead th {\n",
       "        text-align: right;\n",
       "    }\n",
       "</style>\n",
       "<table border=\"1\" class=\"dataframe\">\n",
       "  <thead>\n",
       "    <tr style=\"text-align: right;\">\n",
       "      <th></th>\n",
       "      <th>time_id</th>\n",
       "      <th>price</th>\n",
       "      <th>stock_id</th>\n",
       "    </tr>\n",
       "  </thead>\n",
       "  <tbody>\n",
       "    <tr>\n",
       "      <th>0</th>\n",
       "      <td>5</td>\n",
       "      <td>354.254181</td>\n",
       "      <td>17</td>\n",
       "    </tr>\n",
       "    <tr>\n",
       "      <th>1</th>\n",
       "      <td>11</td>\n",
       "      <td>336.246613</td>\n",
       "      <td>17</td>\n",
       "    </tr>\n",
       "    <tr>\n",
       "      <th>2</th>\n",
       "      <td>16</td>\n",
       "      <td>305.269318</td>\n",
       "      <td>17</td>\n",
       "    </tr>\n",
       "    <tr>\n",
       "      <th>3</th>\n",
       "      <td>31</td>\n",
       "      <td>342.323792</td>\n",
       "      <td>17</td>\n",
       "    </tr>\n",
       "    <tr>\n",
       "      <th>4</th>\n",
       "      <td>62</td>\n",
       "      <td>331.955383</td>\n",
       "      <td>17</td>\n",
       "    </tr>\n",
       "    <tr>\n",
       "      <th>...</th>\n",
       "      <td>...</td>\n",
       "      <td>...</td>\n",
       "      <td>...</td>\n",
       "    </tr>\n",
       "    <tr>\n",
       "      <th>3825</th>\n",
       "      <td>32751</td>\n",
       "      <td>449.804657</td>\n",
       "      <td>98</td>\n",
       "    </tr>\n",
       "    <tr>\n",
       "      <th>3826</th>\n",
       "      <td>32753</td>\n",
       "      <td>450.801147</td>\n",
       "      <td>98</td>\n",
       "    </tr>\n",
       "    <tr>\n",
       "      <th>3827</th>\n",
       "      <td>32758</td>\n",
       "      <td>461.180573</td>\n",
       "      <td>98</td>\n",
       "    </tr>\n",
       "    <tr>\n",
       "      <th>3828</th>\n",
       "      <td>32763</td>\n",
       "      <td>386.533691</td>\n",
       "      <td>98</td>\n",
       "    </tr>\n",
       "    <tr>\n",
       "      <th>3829</th>\n",
       "      <td>32767</td>\n",
       "      <td>454.956360</td>\n",
       "      <td>98</td>\n",
       "    </tr>\n",
       "  </tbody>\n",
       "</table>\n",
       "<p>428932 rows × 3 columns</p>\n",
       "</div>"
      ],
      "text/plain": [
       "      time_id       price  stock_id\n",
       "0           5  354.254181        17\n",
       "1          11  336.246613        17\n",
       "2          16  305.269318        17\n",
       "3          31  342.323792        17\n",
       "4          62  331.955383        17\n",
       "...       ...         ...       ...\n",
       "3825    32751  449.804657        98\n",
       "3826    32753  450.801147        98\n",
       "3827    32758  461.180573        98\n",
       "3828    32763  386.533691        98\n",
       "3829    32767  454.956360        98\n",
       "\n",
       "[428932 rows x 3 columns]"
      ]
     },
     "execution_count": 21,
     "metadata": {},
     "output_type": "execute_result"
    }
   ],
   "source": [
    "%%time\n",
    "\n",
    "etl.denormalize_prices()"
   ]
  },
  {
   "cell_type": "code",
   "execution_count": 22,
   "metadata": {},
   "outputs": [
    {
     "name": "stderr",
     "output_type": "stream",
     "text": [
      "Computing features: 100%|██████████| 112/112 [01:01<00:00,  1.83file/s]\n"
     ]
    },
    {
     "name": "stdout",
     "output_type": "stream",
     "text": [
      "CPU times: user 1min 10s, sys: 4.63 s, total: 1min 15s\n",
      "Wall time: 1min 1s\n"
     ]
    }
   ],
   "source": [
    "%%time\n",
    "features = etl.compute_features()"
   ]
  },
  {
   "cell_type": "code",
   "execution_count": 23,
   "metadata": {},
   "outputs": [
    {
     "name": "stdout",
     "output_type": "stream",
     "text": [
      "The RMSPE score of the native prediciton for the training set is 0.3412102154423102\n"
     ]
    }
   ],
   "source": [
    "print(f'The RMSPE score of the native prediciton for the training set is {rmspe(features[\"target\"], features[\"rel_vol\"])}')"
   ]
  },
  {
   "cell_type": "markdown",
   "metadata": {},
   "source": [
    "## OLS"
   ]
  },
  {
   "cell_type": "code",
   "execution_count": 24,
   "metadata": {},
   "outputs": [],
   "source": [
    "import statsmodels.api as sm\n",
    "from sklearn.model_selection import KFold"
   ]
  },
  {
   "cell_type": "code",
   "execution_count": 25,
   "metadata": {},
   "outputs": [
    {
     "name": "stdout",
     "output_type": "stream",
     "text": [
      "\n",
      "Average CV RMSPE: 0.24679\n"
     ]
    }
   ],
   "source": [
    "# Initialize KFold CV\n",
    "kf = KFold(n_splits=5, shuffle=True, random_state=42)\n",
    "\n",
    "preds = []\n",
    "cv_scores = []\n",
    "\n",
    "# Iterate through each stock\n",
    "for i, stock_id in enumerate(features.index.unique()):\n",
    "    # Extract features and target\n",
    "    X = features.loc[stock_id, ['price', 'rel_vol', 'vol_gk', 'imbalance', 'bidask']].values\n",
    "    #X = joined.loc[stock_id, ['price', 'rel_vol', 'vol_gk', 'bidask']].values\n",
    "    y = features.loc[stock_id, 'target'].values\n",
    "\n",
    "    # Compute sample weights\n",
    "    weights = 1 / np.square(y)\n",
    "    # weights = np.ones(X.shape[0])  # Uncomment this line to use equal weights\n",
    "\n",
    "    stock_preds = np.zeros_like(y, dtype=float)\n",
    "    fold_scores = []\n",
    "\n",
    "    # KFold CV for each stock\n",
    "    for train_idx, test_idx in kf.split(X):\n",
    "        X_train, X_test = X[train_idx], X[test_idx]\n",
    "        y_train, y_test = y[train_idx], y[test_idx]\n",
    "        w_train = weights[train_idx]\n",
    "\n",
    "        # Add intercept term explicitly\n",
    "        X_train = sm.add_constant(X_train, has_constant='add')\n",
    "        X_test = sm.add_constant(X_test, has_constant='add')\n",
    "\n",
    "        # Train the model with sample weights\n",
    "        model = sm.WLS(y_train, X_train, weights=w_train)\n",
    "        results = model.fit()\n",
    "\n",
    "        # Predict and store\n",
    "        y_pred = results.predict(X_test)\n",
    "        stock_preds[test_idx] = y_pred\n",
    "\n",
    "        # RMSPE calculation\n",
    "        fold_rmspe = np.sqrt(np.mean(np.square((y_test - y_pred) / y_test)))\n",
    "        fold_scores.append(fold_rmspe)\n",
    "\n",
    "    # Store CV scores and predictions\n",
    "    cv_scores.append(np.mean(fold_scores))\n",
    "    preds += list(stock_preds)\n",
    "\n",
    "    # Print R-style summary for this stock\n",
    "    with open(f\"ols_summary/stock_{stock_id}_summary.txt\", \"w\") as f:\n",
    "        f.write(results.summary().as_text())\n",
    "\n",
    "# Assign predictions back to DataFrame\n",
    "features[\"pred\"] = preds\n",
    "\n",
    "# Print average CV RMSPE across all stocks\n",
    "print(f\"\\nAverage CV RMSPE: {np.mean(cv_scores):.5f}\")"
   ]
  }
 ],
 "metadata": {
  "kernelspec": {
   "display_name": "nnet",
   "language": "python",
   "name": "python3"
  },
  "language_info": {
   "codemirror_mode": {
    "name": "ipython",
    "version": 3
   },
   "file_extension": ".py",
   "mimetype": "text/x-python",
   "name": "python",
   "nbconvert_exporter": "python",
   "pygments_lexer": "ipython3",
   "version": "3.10.16"
  }
 },
 "nbformat": 4,
 "nbformat_minor": 2
}
