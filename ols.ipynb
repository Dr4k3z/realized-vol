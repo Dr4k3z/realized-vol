{
 "cells": [
  {
   "cell_type": "code",
   "execution_count": 1,
   "metadata": {},
   "outputs": [],
   "source": [
    "import numpy as np\n",
    "import pandas as pd\n",
    "import matplotlib.pyplot as plt\n",
    "import seaborn as sns\n",
    "from sklearn.metrics import r2_score\n",
    "import glob"
   ]
  },
  {
   "cell_type": "code",
   "execution_count": 2,
   "metadata": {},
   "outputs": [],
   "source": [
    "from utils import volGK_time_id, rel_vol_time_id"
   ]
  },
  {
   "cell_type": "code",
   "execution_count": 3,
   "metadata": {},
   "outputs": [
    {
     "data": {
      "text/plain": [
       "(428932, 3)"
      ]
     },
     "execution_count": 3,
     "metadata": {},
     "output_type": "execute_result"
    }
   ],
   "source": [
    "train = pd.read_csv(\"optiver-realized-volatility-prediction/train.csv\")\n",
    "\n",
    "train.shape"
   ]
  },
  {
   "cell_type": "code",
   "execution_count": 4,
   "metadata": {},
   "outputs": [],
   "source": [
    "order_book_training = glob.glob('optiver-realized-volatility-prediction/book_train.parquet/*')"
   ]
  },
  {
   "cell_type": "code",
   "execution_count": 5,
   "metadata": {},
   "outputs": [
    {
     "name": "stdout",
     "output_type": "stream",
     "text": [
      "CPU times: user 5.08 s, sys: 270 ms, total: 5.35 s\n",
      "Wall time: 4.76 s\n"
     ]
    }
   ],
   "source": [
    "%%time \n",
    "stock_id = []\n",
    "time_id = []\n",
    "relvol = []\n",
    "volgk = []\n",
    "\n",
    "for i in order_book_training[:10]:\n",
    "    # finding the stock_id\n",
    "    temp_stock = int(i.split(\"=\")[1])\n",
    "    # find the realized volatility for all time_id of temp_stock\n",
    "    temp_relvol = rel_vol_time_id(i)\n",
    "    stock_id += [temp_stock]*temp_relvol.shape[0]\n",
    "    time_id += list(temp_relvol.index)\n",
    "    relvol += list(temp_relvol)\n",
    "    volgk += list(volGK_time_id(i))"
   ]
  },
  {
   "cell_type": "code",
   "execution_count": null,
   "metadata": {},
   "outputs": [
    {
     "data": {
      "text/plain": [
       "numpy.float64"
      ]
     },
     "execution_count": 8,
     "metadata": {},
     "output_type": "execute_result"
    }
   ],
   "source": [
    "past_vol = pd.DataFrame({\"stock_id\": stock_id, \"time_id\": time_id, \"rel_vol\": relvol, \"vol_gk\": volgk})"
   ]
  },
  {
   "cell_type": "code",
   "execution_count": 9,
   "metadata": {},
   "outputs": [
    {
     "data": {
      "text/html": [
       "<div>\n",
       "<style scoped>\n",
       "    .dataframe tbody tr th:only-of-type {\n",
       "        vertical-align: middle;\n",
       "    }\n",
       "\n",
       "    .dataframe tbody tr th {\n",
       "        vertical-align: top;\n",
       "    }\n",
       "\n",
       "    .dataframe thead th {\n",
       "        text-align: right;\n",
       "    }\n",
       "</style>\n",
       "<table border=\"1\" class=\"dataframe\">\n",
       "  <thead>\n",
       "    <tr style=\"text-align: right;\">\n",
       "      <th></th>\n",
       "      <th>stock_id</th>\n",
       "      <th>time_id</th>\n",
       "      <th>target</th>\n",
       "      <th>rel_vol</th>\n",
       "      <th>vol_gk</th>\n",
       "    </tr>\n",
       "  </thead>\n",
       "  <tbody>\n",
       "    <tr>\n",
       "      <th>0</th>\n",
       "      <td>10</td>\n",
       "      <td>5</td>\n",
       "      <td>0.005707</td>\n",
       "      <td>0.005378</td>\n",
       "      <td>0.004366</td>\n",
       "    </tr>\n",
       "    <tr>\n",
       "      <th>1</th>\n",
       "      <td>10</td>\n",
       "      <td>11</td>\n",
       "      <td>0.002352</td>\n",
       "      <td>0.002376</td>\n",
       "      <td>0.001740</td>\n",
       "    </tr>\n",
       "    <tr>\n",
       "      <th>2</th>\n",
       "      <td>10</td>\n",
       "      <td>16</td>\n",
       "      <td>0.002363</td>\n",
       "      <td>0.002343</td>\n",
       "      <td>0.001485</td>\n",
       "    </tr>\n",
       "    <tr>\n",
       "      <th>3</th>\n",
       "      <td>10</td>\n",
       "      <td>31</td>\n",
       "      <td>0.002341</td>\n",
       "      <td>0.002042</td>\n",
       "      <td>0.000823</td>\n",
       "    </tr>\n",
       "    <tr>\n",
       "      <th>4</th>\n",
       "      <td>10</td>\n",
       "      <td>62</td>\n",
       "      <td>0.002007</td>\n",
       "      <td>0.001426</td>\n",
       "      <td>0.001333</td>\n",
       "    </tr>\n",
       "    <tr>\n",
       "      <th>...</th>\n",
       "      <td>...</td>\n",
       "      <td>...</td>\n",
       "      <td>...</td>\n",
       "      <td>...</td>\n",
       "      <td>...</td>\n",
       "    </tr>\n",
       "    <tr>\n",
       "      <th>38294</th>\n",
       "      <td>86</td>\n",
       "      <td>32751</td>\n",
       "      <td>0.002334</td>\n",
       "      <td>0.002856</td>\n",
       "      <td>0.002957</td>\n",
       "    </tr>\n",
       "    <tr>\n",
       "      <th>38295</th>\n",
       "      <td>86</td>\n",
       "      <td>32753</td>\n",
       "      <td>0.002954</td>\n",
       "      <td>0.003425</td>\n",
       "      <td>0.003637</td>\n",
       "    </tr>\n",
       "    <tr>\n",
       "      <th>38296</th>\n",
       "      <td>86</td>\n",
       "      <td>32758</td>\n",
       "      <td>0.001912</td>\n",
       "      <td>0.001839</td>\n",
       "      <td>0.001464</td>\n",
       "    </tr>\n",
       "    <tr>\n",
       "      <th>38297</th>\n",
       "      <td>86</td>\n",
       "      <td>32763</td>\n",
       "      <td>0.005269</td>\n",
       "      <td>0.001742</td>\n",
       "      <td>0.001485</td>\n",
       "    </tr>\n",
       "    <tr>\n",
       "      <th>38298</th>\n",
       "      <td>86</td>\n",
       "      <td>32767</td>\n",
       "      <td>0.002117</td>\n",
       "      <td>0.001939</td>\n",
       "      <td>0.001507</td>\n",
       "    </tr>\n",
       "  </tbody>\n",
       "</table>\n",
       "<p>38299 rows × 5 columns</p>\n",
       "</div>"
      ],
      "text/plain": [
       "       stock_id  time_id    target   rel_vol    vol_gk\n",
       "0            10        5  0.005707  0.005378  0.004366\n",
       "1            10       11  0.002352  0.002376  0.001740\n",
       "2            10       16  0.002363  0.002343  0.001485\n",
       "3            10       31  0.002341  0.002042  0.000823\n",
       "4            10       62  0.002007  0.001426  0.001333\n",
       "...         ...      ...       ...       ...       ...\n",
       "38294        86    32751  0.002334  0.002856  0.002957\n",
       "38295        86    32753  0.002954  0.003425  0.003637\n",
       "38296        86    32758  0.001912  0.001839  0.001464\n",
       "38297        86    32763  0.005269  0.001742  0.001485\n",
       "38298        86    32767  0.002117  0.001939  0.001507\n",
       "\n",
       "[38299 rows x 5 columns]"
      ]
     },
     "execution_count": 9,
     "metadata": {},
     "output_type": "execute_result"
    }
   ],
   "source": [
    "joined = train.merge(past_vol, on = [\"stock_id\",\"time_id\"])\n",
    "joined"
   ]
  },
  {
   "cell_type": "code",
   "execution_count": 10,
   "metadata": {},
   "outputs": [],
   "source": [
    "def rmspe(y_true, y_pred):\n",
    "    return  (np.sqrt(np.mean(np.square((y_true - y_pred) / y_true))))"
   ]
  },
  {
   "cell_type": "code",
   "execution_count": null,
   "metadata": {},
   "outputs": [
    {
     "name": "stdout",
     "output_type": "stream",
     "text": [
      "The RMSPE score of the native prediciton for the training set is 0.340856751663662\n",
      "The R2 score of the native prediciton for the training set is 0.3976766148405539\n"
     ]
    }
   ],
   "source": [
    "print(f'The RMSPE score of the native prediciton for the training set is {rmspe(joined[\"target\"], joined[\"rel_vol\"])}')\n",
    "print(f'The RMSPE score of the native prediciton for the training set is {rmspe(joined[\"target\"], joined[\"vol_gk\"])}')"
   ]
  },
  {
   "cell_type": "markdown",
   "metadata": {},
   "source": [
    "## Features\n",
    "\n",
    "- Weighted Average Price (WAP)\n",
    "- Volume and Volume Imbalance\n",
    "- Bid/Ask spread"
   ]
  },
  {
   "cell_type": "code",
   "execution_count": null,
   "metadata": {},
   "outputs": [],
   "source": []
  },
  {
   "cell_type": "code",
   "execution_count": null,
   "metadata": {},
   "outputs": [],
   "source": []
  },
  {
   "cell_type": "markdown",
   "metadata": {},
   "source": [
    "## OLS"
   ]
  },
  {
   "cell_type": "code",
   "execution_count": 22,
   "metadata": {},
   "outputs": [],
   "source": [
    "from sklearn.linear_model import LinearRegression\n",
    "from sklearn.preprocessing import PolynomialFeatures\n",
    "\n",
    "# for training\n",
    "def linear_training(X,y,degree):\n",
    "    # instantiating polynomial features\n",
    "    polyfeat = PolynomialFeatures(degree = degree)\n",
    "    linreg = LinearRegression()\n",
    "    # preprocessing the training data\n",
    "    x = np.array(X).reshape(-1,1)\n",
    "    # creating the polynomial features\n",
    "    X_ = polyfeat.fit_transform(x)\n",
    "    # training the model\n",
    "    # weights = 1/np.square(y)\n",
    "    weights = np.ones(len(y))\n",
    "    return linreg.fit(X_, np.array(y).reshape(-1,1), sample_weight = weights)\n",
    "\n",
    "\n",
    "stock_id_train = train.stock_id.unique() # all stock_id for the train set\n",
    "models = {} # dictionary for holding trained models for each stock_id\n",
    "degree = 2\n",
    "for i in stock_id_train:\n",
    "    temp = joined[joined[\"stock_id\"]==i]\n",
    "    X = temp[\"volatility\"]\n",
    "    y = temp[\"target\"]\n",
    "    models[i] = linear_training(X,y,degree)"
   ]
  },
  {
   "cell_type": "code",
   "execution_count": 36,
   "metadata": {},
   "outputs": [
    {
     "data": {
      "image/png": "[encoded data removed]",
      "text/plain": [
       "<Figure size 800x500 with 1 Axes>"
      ]
     },
     "metadata": {},
     "output_type": "display_data"
    }
   ],
   "source": [
    "import matplotlib.pyplot as plt\n",
    "import numpy as np\n",
    "\n",
    "def plot_model_fit(stock_id, models, joined, degree):\n",
    "    # Extract data for this stock\n",
    "    temp = joined[joined[\"stock_id\"] == stock_id]\n",
    "    X = temp[\"volatility\"].values\n",
    "    y = temp[\"target\"].values\n",
    "    \n",
    "    # Get model for this stock\n",
    "    model = models[stock_id]\n",
    "    \n",
    "    # Prepare a range of volatility values for smooth curve\n",
    "    x_range = np.linspace(X.min(), X.max(), 300).reshape(-1, 1)\n",
    "    polyfeat = PolynomialFeatures(degree=degree)\n",
    "    X_poly = polyfeat.fit_transform(x_range)\n",
    "    \n",
    "    # Predict with the model\n",
    "    y_pred = model.predict(X_poly)\n",
    "    \n",
    "    # Plot\n",
    "    plt.figure(figsize=(8, 5))\n",
    "    plt.scatter(X, y, color='blue', label='Actual Data')\n",
    "    plt.plot(x_range, y_pred, color='red', linewidth=2, label='Polynomial Fit')\n",
    "    plt.title(f\"Polynomial Regression Fit (Stock ID: {stock_id})\")\n",
    "    plt.xlabel(\"Volatility\")\n",
    "    plt.ylabel(\"Target\")\n",
    "    plt.legend()\n",
    "    plt.grid(True)\n",
    "    plt.savefig(\"regression.png\", dpi=300, bbox_inches='tight')\n",
    "\n",
    "    plt.show()\n",
    "\n",
    "# Example: plot for the first stock ID\n",
    "plot_model_fit(stock_id_train[0], models, joined, degree)"
   ]
  },
  {
   "cell_type": "code",
   "execution_count": 24,
   "metadata": {},
   "outputs": [],
   "source": [
    "def linear_inference(models, stock_id, past_volatility, degree):\n",
    "    model = models[stock_id]\n",
    "    polyfeat = PolynomialFeatures(degree = degree)\n",
    "    return model.predict(polyfeat.fit_transform([[past_volatility]]))[0][0]"
   ]
  },
  {
   "cell_type": "code",
   "execution_count": 26,
   "metadata": {},
   "outputs": [],
   "source": [
    "submission = pd.DataFrame({\"stock_id\": [], \"time_id\": [], \"pred\": []})\n",
    "\n",
    "submission[[\"stock_id\",\"time_id\"]] = past_volatility[[\"stock_id\",\"time_id\"]]"
   ]
  },
  {
   "cell_type": "code",
   "execution_count": 27,
   "metadata": {},
   "outputs": [],
   "source": [
    "submission[\"target\"] = past_volatility.apply(lambda x: linear_inference(models,\\\n",
    "                                                                            x.stock_id,\\\n",
    "                                                                            x.volatility,\\\n",
    "                                                                            degree),\\\n",
    "                                                 axis = 1)"
   ]
  },
  {
   "cell_type": "code",
   "execution_count": 28,
   "metadata": {},
   "outputs": [],
   "source": [
    "submission.drop(columns = [\"pred\"], inplace = True)"
   ]
  },
  {
   "cell_type": "code",
   "execution_count": 29,
   "metadata": {},
   "outputs": [],
   "source": [
    "submission.sort_values(by = [\"stock_id\",\"time_id\"], inplace = True)"
   ]
  },
  {
   "cell_type": "code",
   "execution_count": 30,
   "metadata": {},
   "outputs": [],
   "source": [
    "submission.rename(columns = {\"target\": \"pred\"}, inplace = True)"
   ]
  },
  {
   "cell_type": "code",
   "execution_count": 31,
   "metadata": {},
   "outputs": [
    {
     "name": "stdout",
     "output_type": "stream",
     "text": [
      "The R2 score of the naive prediction for training set is 0.792\n"
     ]
    }
   ],
   "source": [
    "joined2 = train.merge(submission, on = [\"stock_id\",\"time_id\"], how = \"left\")\n",
    "R2 = round(r2_score(y_true = joined2['target'], y_pred = joined2['pred']),3)\n",
    "print(f'The R2 score of the naive prediction for training set is {R2}')"
   ]
  },
  {
   "cell_type": "code",
   "execution_count": 32,
   "metadata": {},
   "outputs": [
    {
     "data": {
      "text/html": [
       "<div>\n",
       "<style scoped>\n",
       "    .dataframe tbody tr th:only-of-type {\n",
       "        vertical-align: middle;\n",
       "    }\n",
       "\n",
       "    .dataframe tbody tr th {\n",
       "        vertical-align: top;\n",
       "    }\n",
       "\n",
       "    .dataframe thead th {\n",
       "        text-align: right;\n",
       "    }\n",
       "</style>\n",
       "<table border=\"1\" class=\"dataframe\">\n",
       "  <thead>\n",
       "    <tr style=\"text-align: right;\">\n",
       "      <th></th>\n",
       "      <th>stock_id</th>\n",
       "      <th>time_id</th>\n",
       "      <th>target</th>\n",
       "      <th>pred</th>\n",
       "    </tr>\n",
       "  </thead>\n",
       "  <tbody>\n",
       "    <tr>\n",
       "      <th>0</th>\n",
       "      <td>0</td>\n",
       "      <td>5</td>\n",
       "      <td>0.004136</td>\n",
       "      <td>0.004148</td>\n",
       "    </tr>\n",
       "    <tr>\n",
       "      <th>1</th>\n",
       "      <td>0</td>\n",
       "      <td>11</td>\n",
       "      <td>0.001445</td>\n",
       "      <td>0.001638</td>\n",
       "    </tr>\n",
       "    <tr>\n",
       "      <th>2</th>\n",
       "      <td>0</td>\n",
       "      <td>16</td>\n",
       "      <td>0.002168</td>\n",
       "      <td>0.002541</td>\n",
       "    </tr>\n",
       "    <tr>\n",
       "      <th>3</th>\n",
       "      <td>0</td>\n",
       "      <td>31</td>\n",
       "      <td>0.002195</td>\n",
       "      <td>0.002699</td>\n",
       "    </tr>\n",
       "    <tr>\n",
       "      <th>4</th>\n",
       "      <td>0</td>\n",
       "      <td>62</td>\n",
       "      <td>0.001747</td>\n",
       "      <td>0.002176</td>\n",
       "    </tr>\n",
       "    <tr>\n",
       "      <th>...</th>\n",
       "      <td>...</td>\n",
       "      <td>...</td>\n",
       "      <td>...</td>\n",
       "      <td>...</td>\n",
       "    </tr>\n",
       "    <tr>\n",
       "      <th>428927</th>\n",
       "      <td>126</td>\n",
       "      <td>32751</td>\n",
       "      <td>0.003461</td>\n",
       "      <td>0.003797</td>\n",
       "    </tr>\n",
       "    <tr>\n",
       "      <th>428928</th>\n",
       "      <td>126</td>\n",
       "      <td>32753</td>\n",
       "      <td>0.003113</td>\n",
       "      <td>0.004151</td>\n",
       "    </tr>\n",
       "    <tr>\n",
       "      <th>428929</th>\n",
       "      <td>126</td>\n",
       "      <td>32758</td>\n",
       "      <td>0.004070</td>\n",
       "      <td>0.003297</td>\n",
       "    </tr>\n",
       "    <tr>\n",
       "      <th>428930</th>\n",
       "      <td>126</td>\n",
       "      <td>32763</td>\n",
       "      <td>0.003357</td>\n",
       "      <td>0.003771</td>\n",
       "    </tr>\n",
       "    <tr>\n",
       "      <th>428931</th>\n",
       "      <td>126</td>\n",
       "      <td>32767</td>\n",
       "      <td>0.002090</td>\n",
       "      <td>0.002378</td>\n",
       "    </tr>\n",
       "  </tbody>\n",
       "</table>\n",
       "<p>428932 rows × 4 columns</p>\n",
       "</div>"
      ],
      "text/plain": [
       "        stock_id  time_id    target      pred\n",
       "0              0        5  0.004136  0.004148\n",
       "1              0       11  0.001445  0.001638\n",
       "2              0       16  0.002168  0.002541\n",
       "3              0       31  0.002195  0.002699\n",
       "4              0       62  0.001747  0.002176\n",
       "...          ...      ...       ...       ...\n",
       "428927       126    32751  0.003461  0.003797\n",
       "428928       126    32753  0.003113  0.004151\n",
       "428929       126    32758  0.004070  0.003297\n",
       "428930       126    32763  0.003357  0.003771\n",
       "428931       126    32767  0.002090  0.002378\n",
       "\n",
       "[428932 rows x 4 columns]"
      ]
     },
     "execution_count": 32,
     "metadata": {},
     "output_type": "execute_result"
    }
   ],
   "source": [
    "joined2"
   ]
  },
  {
   "cell_type": "code",
   "execution_count": 33,
   "metadata": {},
   "outputs": [
    {
     "data": {
      "text/plain": [
       "np.float64(0.29966188059626525)"
      ]
     },
     "execution_count": 33,
     "metadata": {},
     "output_type": "execute_result"
    }
   ],
   "source": [
    "rmspe(joined2[\"target\"], joined2[\"pred\"])"
   ]
  },
  {
   "cell_type": "markdown",
   "metadata": {},
   "source": [
    "## Time Series Reconstruction"
   ]
  },
  {
   "cell_type": "code",
   "execution_count": 31,
   "metadata": {},
   "outputs": [
    {
     "data": {
      "text/html": [
       "<div>\n",
       "<style scoped>\n",
       "    .dataframe tbody tr th:only-of-type {\n",
       "        vertical-align: middle;\n",
       "    }\n",
       "\n",
       "    .dataframe tbody tr th {\n",
       "        vertical-align: top;\n",
       "    }\n",
       "\n",
       "    .dataframe thead th {\n",
       "        text-align: right;\n",
       "    }\n",
       "</style>\n",
       "<table border=\"1\" class=\"dataframe\">\n",
       "  <thead>\n",
       "    <tr style=\"text-align: right;\">\n",
       "      <th></th>\n",
       "      <th>time_id</th>\n",
       "    </tr>\n",
       "  </thead>\n",
       "  <tbody>\n",
       "    <tr>\n",
       "      <th>0</th>\n",
       "      <td>4294</td>\n",
       "    </tr>\n",
       "    <tr>\n",
       "      <th>1</th>\n",
       "      <td>24033</td>\n",
       "    </tr>\n",
       "    <tr>\n",
       "      <th>2</th>\n",
       "      <td>5666</td>\n",
       "    </tr>\n",
       "    <tr>\n",
       "      <th>3</th>\n",
       "      <td>29740</td>\n",
       "    </tr>\n",
       "    <tr>\n",
       "      <th>4</th>\n",
       "      <td>22178</td>\n",
       "    </tr>\n",
       "  </tbody>\n",
       "</table>\n",
       "</div>"
      ],
      "text/plain": [
       "   time_id\n",
       "0     4294\n",
       "1    24033\n",
       "2     5666\n",
       "3    29740\n",
       "4    22178"
      ]
     },
     "execution_count": 31,
     "metadata": {},
     "output_type": "execute_result"
    }
   ],
   "source": [
    "time_id_order = pd.read_csv(\"time_id_order.csv\")\n",
    "time_id_order.drop(columns = [\"Unnamed: 0\"], inplace = True)\n",
    "time_id_order.head()"
   ]
  },
  {
   "cell_type": "code",
   "execution_count": 38,
   "metadata": {},
   "outputs": [
    {
     "data": {
      "text/html": [
       "<div>\n",
       "<style scoped>\n",
       "    .dataframe tbody tr th:only-of-type {\n",
       "        vertical-align: middle;\n",
       "    }\n",
       "\n",
       "    .dataframe tbody tr th {\n",
       "        vertical-align: top;\n",
       "    }\n",
       "\n",
       "    .dataframe thead th {\n",
       "        text-align: right;\n",
       "    }\n",
       "</style>\n",
       "<table border=\"1\" class=\"dataframe\">\n",
       "  <thead>\n",
       "    <tr style=\"text-align: right;\">\n",
       "      <th></th>\n",
       "      <th>seconds_in_bucket</th>\n",
       "      <th>bid_price1</th>\n",
       "      <th>ask_price1</th>\n",
       "      <th>bid_price2</th>\n",
       "      <th>ask_price2</th>\n",
       "      <th>bid_size1</th>\n",
       "      <th>ask_size1</th>\n",
       "      <th>bid_size2</th>\n",
       "      <th>ask_size2</th>\n",
       "      <th>WAP</th>\n",
       "    </tr>\n",
       "    <tr>\n",
       "      <th>time_id</th>\n",
       "      <th></th>\n",
       "      <th></th>\n",
       "      <th></th>\n",
       "      <th></th>\n",
       "      <th></th>\n",
       "      <th></th>\n",
       "      <th></th>\n",
       "      <th></th>\n",
       "      <th></th>\n",
       "      <th></th>\n",
       "    </tr>\n",
       "  </thead>\n",
       "  <tbody>\n",
       "    <tr>\n",
       "      <th>5</th>\n",
       "      <td>0</td>\n",
       "      <td>0.998834</td>\n",
       "      <td>0.999695</td>\n",
       "      <td>0.998756</td>\n",
       "      <td>0.999760</td>\n",
       "      <td>23</td>\n",
       "      <td>1</td>\n",
       "      <td>1</td>\n",
       "      <td>1</td>\n",
       "      <td>0.999659</td>\n",
       "    </tr>\n",
       "    <tr>\n",
       "      <th>5</th>\n",
       "      <td>1</td>\n",
       "      <td>0.998997</td>\n",
       "      <td>0.999695</td>\n",
       "      <td>0.998834</td>\n",
       "      <td>0.999760</td>\n",
       "      <td>1</td>\n",
       "      <td>1</td>\n",
       "      <td>23</td>\n",
       "      <td>1</td>\n",
       "      <td>0.999346</td>\n",
       "    </tr>\n",
       "    <tr>\n",
       "      <th>5</th>\n",
       "      <td>2</td>\n",
       "      <td>0.998997</td>\n",
       "      <td>0.999633</td>\n",
       "      <td>0.998834</td>\n",
       "      <td>0.999695</td>\n",
       "      <td>1</td>\n",
       "      <td>1</td>\n",
       "      <td>23</td>\n",
       "      <td>1</td>\n",
       "      <td>0.999315</td>\n",
       "    </tr>\n",
       "    <tr>\n",
       "      <th>5</th>\n",
       "      <td>3</td>\n",
       "      <td>0.998640</td>\n",
       "      <td>0.999182</td>\n",
       "      <td>0.998555</td>\n",
       "      <td>0.999276</td>\n",
       "      <td>1</td>\n",
       "      <td>1</td>\n",
       "      <td>1</td>\n",
       "      <td>27</td>\n",
       "      <td>0.998911</td>\n",
       "    </tr>\n",
       "    <tr>\n",
       "      <th>5</th>\n",
       "      <td>4</td>\n",
       "      <td>0.998640</td>\n",
       "      <td>0.999276</td>\n",
       "      <td>0.998506</td>\n",
       "      <td>0.999292</td>\n",
       "      <td>1</td>\n",
       "      <td>27</td>\n",
       "      <td>100</td>\n",
       "      <td>1</td>\n",
       "      <td>0.998662</td>\n",
       "    </tr>\n",
       "  </tbody>\n",
       "</table>\n",
       "</div>"
      ],
      "text/plain": [
       "         seconds_in_bucket  bid_price1  ask_price1  bid_price2  ask_price2  \\\n",
       "time_id                                                                      \n",
       "5                        0    0.998834    0.999695    0.998756    0.999760   \n",
       "5                        1    0.998997    0.999695    0.998834    0.999760   \n",
       "5                        2    0.998997    0.999633    0.998834    0.999695   \n",
       "5                        3    0.998640    0.999182    0.998555    0.999276   \n",
       "5                        4    0.998640    0.999276    0.998506    0.999292   \n",
       "\n",
       "         bid_size1  ask_size1  bid_size2  ask_size2       WAP  \n",
       "time_id                                                        \n",
       "5               23          1          1          1  0.999659  \n",
       "5                1          1         23          1  0.999346  \n",
       "5                1          1         23          1  0.999315  \n",
       "5                1          1          1         27  0.998911  \n",
       "5                1         27        100          1  0.998662  "
      ]
     },
     "execution_count": 38,
     "metadata": {},
     "output_type": "execute_result"
    }
   ],
   "source": [
    "CHTR = \"optiver-realized-volatility-prediction/book_train.parquet/stock_id=61\"\n",
    "CHTR = wap(CHTR)\n",
    "CHTR.set_index(\"time_id\", inplace = True)\n",
    "CHTR.head()"
   ]
  },
  {
   "cell_type": "code",
   "execution_count": 44,
   "metadata": {},
   "outputs": [
    {
     "data": {
      "text/html": [
       "<div>\n",
       "<style scoped>\n",
       "    .dataframe tbody tr th:only-of-type {\n",
       "        vertical-align: middle;\n",
       "    }\n",
       "\n",
       "    .dataframe tbody tr th {\n",
       "        vertical-align: top;\n",
       "    }\n",
       "\n",
       "    .dataframe thead th {\n",
       "        text-align: right;\n",
       "    }\n",
       "</style>\n",
       "<table border=\"1\" class=\"dataframe\">\n",
       "  <thead>\n",
       "    <tr style=\"text-align: right;\">\n",
       "      <th></th>\n",
       "      <th>time_id</th>\n",
       "      <th>seconds_in_bucket</th>\n",
       "      <th>bid_price1</th>\n",
       "      <th>ask_price1</th>\n",
       "      <th>bid_price2</th>\n",
       "      <th>ask_price2</th>\n",
       "      <th>bid_size1</th>\n",
       "      <th>ask_size1</th>\n",
       "      <th>bid_size2</th>\n",
       "      <th>ask_size2</th>\n",
       "      <th>WAP</th>\n",
       "    </tr>\n",
       "  </thead>\n",
       "  <tbody>\n",
       "    <tr>\n",
       "      <th>0</th>\n",
       "      <td>4294</td>\n",
       "      <td>0</td>\n",
       "      <td>0.999376</td>\n",
       "      <td>0.999941</td>\n",
       "      <td>0.999370</td>\n",
       "      <td>1.000107</td>\n",
       "      <td>100</td>\n",
       "      <td>100</td>\n",
       "      <td>5</td>\n",
       "      <td>200</td>\n",
       "      <td>0.999659</td>\n",
       "    </tr>\n",
       "    <tr>\n",
       "      <th>1</th>\n",
       "      <td>4294</td>\n",
       "      <td>1</td>\n",
       "      <td>0.999285</td>\n",
       "      <td>0.999851</td>\n",
       "      <td>0.999269</td>\n",
       "      <td>0.999883</td>\n",
       "      <td>11</td>\n",
       "      <td>100</td>\n",
       "      <td>10</td>\n",
       "      <td>5</td>\n",
       "      <td>0.999341</td>\n",
       "    </tr>\n",
       "    <tr>\n",
       "      <th>2</th>\n",
       "      <td>4294</td>\n",
       "      <td>2</td>\n",
       "      <td>0.999296</td>\n",
       "      <td>0.999851</td>\n",
       "      <td>0.999290</td>\n",
       "      <td>0.999883</td>\n",
       "      <td>100</td>\n",
       "      <td>100</td>\n",
       "      <td>100</td>\n",
       "      <td>5</td>\n",
       "      <td>0.999573</td>\n",
       "    </tr>\n",
       "    <tr>\n",
       "      <th>3</th>\n",
       "      <td>4294</td>\n",
       "      <td>3</td>\n",
       "      <td>0.999290</td>\n",
       "      <td>0.999851</td>\n",
       "      <td>0.999285</td>\n",
       "      <td>0.999883</td>\n",
       "      <td>100</td>\n",
       "      <td>142</td>\n",
       "      <td>11</td>\n",
       "      <td>5</td>\n",
       "      <td>0.999522</td>\n",
       "    </tr>\n",
       "    <tr>\n",
       "      <th>4</th>\n",
       "      <td>4294</td>\n",
       "      <td>4</td>\n",
       "      <td>0.999306</td>\n",
       "      <td>0.999819</td>\n",
       "      <td>0.999301</td>\n",
       "      <td>0.999851</td>\n",
       "      <td>100</td>\n",
       "      <td>20</td>\n",
       "      <td>10</td>\n",
       "      <td>142</td>\n",
       "      <td>0.999733</td>\n",
       "    </tr>\n",
       "  </tbody>\n",
       "</table>\n",
       "</div>"
      ],
      "text/plain": [
       "   time_id  seconds_in_bucket  bid_price1  ask_price1  bid_price2  ask_price2  \\\n",
       "0     4294                  0    0.999376    0.999941    0.999370    1.000107   \n",
       "1     4294                  1    0.999285    0.999851    0.999269    0.999883   \n",
       "2     4294                  2    0.999296    0.999851    0.999290    0.999883   \n",
       "3     4294                  3    0.999290    0.999851    0.999285    0.999883   \n",
       "4     4294                  4    0.999306    0.999819    0.999301    0.999851   \n",
       "\n",
       "   bid_size1  ask_size1  bid_size2  ask_size2       WAP  \n",
       "0        100        100          5        200  0.999659  \n",
       "1         11        100         10          5  0.999341  \n",
       "2        100        100        100          5  0.999573  \n",
       "3        100        142         11          5  0.999522  \n",
       "4        100         20         10        142  0.999733  "
      ]
     },
     "execution_count": 44,
     "metadata": {},
     "output_type": "execute_result"
    }
   ],
   "source": [
    "CHTR_sorted = CHTR.loc[time_id_order[\"time_id\"].values].reset_index()\n",
    "CHTR_sorted.head()"
   ]
  },
  {
   "cell_type": "code",
   "execution_count": null,
   "metadata": {},
   "outputs": [],
   "source": []
  }
 ],
 "metadata": {
  "kernelspec": {
   "display_name": "nnet",
   "language": "python",
   "name": "python3"
  },
  "language_info": {
   "codemirror_mode": {
    "name": "ipython",
    "version": 3
   },
   "file_extension": ".py",
   "mimetype": "text/x-python",
   "name": "python",
   "nbconvert_exporter": "python",
   "pygments_lexer": "ipython3",
   "version": "3.10.16"
  }
 },
 "nbformat": 4,
 "nbformat_minor": 2
}
