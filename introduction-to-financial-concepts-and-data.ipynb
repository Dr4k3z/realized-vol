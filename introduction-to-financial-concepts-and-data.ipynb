{
 "cells": [
  {
   "cell_type": "markdown",
   "id": "inclusive-retention",
   "metadata": {
    "_cell_guid": "b1076dfc-b9ad-4769-8c92-a6c4dae69d19",
    "_uuid": "8f2839f25d086af736a60e9eeb907d3b93b6e0e5",
    "papermill": {
     "duration": 0.035421,
     "end_time": "2021-07-01T09:53:03.120097",
     "exception": false,
     "start_time": "2021-07-01T09:53:03.084676",
     "status": "completed"
    },
    "tags": []
   },
   "source": [
    "#### A glimpse of our trading floor"
   ]
  },
  {
   "cell_type": "markdown",
   "id": "naked-litigation",
   "metadata": {
    "papermill": {
     "duration": 0.032703,
     "end_time": "2021-07-01T09:53:03.186412",
     "exception": false,
     "start_time": "2021-07-01T09:53:03.153709",
     "status": "completed"
    },
    "tags": []
   },
   "source": [
    "![work_at_optiver](https://www.optiver.com/wp-content/uploads/2020/11/WorkingAtOptiver_Hero.jpg)"
   ]
  },
  {
   "cell_type": "markdown",
   "id": "compatible-caution",
   "metadata": {
    "papermill": {
     "duration": 0.032644,
     "end_time": "2021-07-01T09:53:03.251782",
     "exception": false,
     "start_time": "2021-07-01T09:53:03.219138",
     "status": "completed"
    },
    "tags": []
   },
   "source": [
    "# Optiver Realized Volatility Prediction"
   ]
  },
  {
   "cell_type": "markdown",
   "id": "widespread-wayne",
   "metadata": {
    "papermill": {
     "duration": 0.032934,
     "end_time": "2021-07-01T09:53:03.317669",
     "exception": false,
     "start_time": "2021-07-01T09:53:03.284735",
     "status": "completed"
    },
    "tags": []
   },
   "source": [
    "# Introduction\n",
    "In order to make Kagglers better prepared for this competition, Optiver's data scientists have created a tutorial notebook looping through some financial concepts covered in this particular trading challenge. Also, the data structure and the example code submission will also be presented in this notebook. "
   ]
  },
  {
   "cell_type": "markdown",
   "id": "pacific-phase",
   "metadata": {
    "papermill": {
     "duration": 0.033493,
     "end_time": "2021-07-01T09:53:03.384081",
     "exception": false,
     "start_time": "2021-07-01T09:53:03.350588",
     "status": "completed"
    },
    "tags": []
   },
   "source": [
    "# Order book\n",
    "The term order book refers to an electronic list of buy and sell orders for a specific security or financial instrument organized by price level. An order book lists the number of shares being bid on or offered at each price point.\n",
    "\n",
    "Below is a snapshot of an order book of a stock (let's call it stock A), as you can see, all intended buy orders are on the left side of the book displayed as \"bid\" while all intended sell orders are on the right side of the book displayed as \"offer/ask\"\n"
   ]
  },
  {
   "cell_type": "markdown",
   "id": "accessible-custom",
   "metadata": {
    "papermill": {
     "duration": 0.032913,
     "end_time": "2021-07-01T09:53:03.449973",
     "exception": false,
     "start_time": "2021-07-01T09:53:03.417060",
     "status": "completed"
    },
    "tags": []
   },
   "source": [
    "![order_book_1](https://www.optiver.com/wp-content/uploads/2021/05/OrderBook3.png)\n",
    "\n",
    "An actively traded financial instrument always has a dense order book (A liquid book). As the order book data is a continous representation of market demand/supply it is always considered as the number one data source for market research. "
   ]
  },
  {
   "cell_type": "markdown",
   "id": "guided-chinese",
   "metadata": {
    "papermill": {
     "duration": 0.032973,
     "end_time": "2021-07-01T09:53:03.515699",
     "exception": false,
     "start_time": "2021-07-01T09:53:03.482726",
     "status": "completed"
    },
    "tags": []
   },
   "source": [
    "# Trade\n",
    "An order book is a representation of trading intention on the market, however the market needs a buyer and seller at the **same** price to make the trade happen. Therefore, sometimes when someone wants to do a trade in a stock, they check the order book and find someone with counter-interest to trade with. \n",
    "\n",
    "For example, imagine you want to buy 20 shares of a stock A when you have the order book in the previous paragraph. Then you need to find some people who are willing to trade against you by selling 20 shares or more in total. You check the **offer** side of the book starting from the lowest price: there are 221 shares of selling interest on the level of 148. You can **lift** 20 shares for a price of 148 and **guarantee** your execution. This will be the resulting order book of stock A after your trade:"
   ]
  },
  {
   "cell_type": "markdown",
   "id": "practical-feeling",
   "metadata": {
    "papermill": {
     "duration": 0.03325,
     "end_time": "2021-07-01T09:53:03.582727",
     "exception": false,
     "start_time": "2021-07-01T09:53:03.549477",
     "status": "completed"
    },
    "tags": []
   },
   "source": [
    "![order_book2](https://www.optiver.com/wp-content/uploads/2021/05/OrderBook4.png)\n",
    "\n",
    "In this case, the seller(s) sold 20 shares and buyer bought 20 shares, the exchange will match the order between seller(s) and buyer and one trade message will be broadcast to public:\n",
    "\n",
    "- 20 shares of stock A traded on the market at price of 148."
   ]
  },
  {
   "cell_type": "markdown",
   "id": "worst-singer",
   "metadata": {
    "papermill": {
     "duration": 0.032753,
     "end_time": "2021-07-01T09:53:03.648428",
     "exception": false,
     "start_time": "2021-07-01T09:53:03.615675",
     "status": "completed"
    },
    "tags": []
   },
   "source": [
    "Similar to order book data, trade data is also extremely crucial to Optiver's data scientists, as it reflects how active the market is. Actually, some commonly seen technical signals of the financial market are derived from trade data directly, such as high-low or total traded volume."
   ]
  },
  {
   "cell_type": "markdown",
   "id": "fifty-worth",
   "metadata": {
    "papermill": {
     "duration": 0.032506,
     "end_time": "2021-07-01T09:53:03.713921",
     "exception": false,
     "start_time": "2021-07-01T09:53:03.681415",
     "status": "completed"
    },
    "tags": []
   },
   "source": [
    "# Market making and market efficiency\n",
    "Imagine, on another day, stock A's order book becomes below shape, and you, again, want to buy 20 shares from all the intentional sellers. As you can see the book is not as dense as the previous one, and one can say, compared with the previous one, this book is **less liquid**."
   ]
  },
  {
   "cell_type": "markdown",
   "id": "behavioral-fairy",
   "metadata": {
    "papermill": {
     "duration": 0.033072,
     "end_time": "2021-07-01T09:53:03.779859",
     "exception": false,
     "start_time": "2021-07-01T09:53:03.746787",
     "status": "completed"
    },
    "tags": []
   },
   "source": [
    "![order_book_3](https://www.optiver.com/wp-content/uploads/2021/05/OrderBook5.png)"
   ]
  },
  {
   "cell_type": "markdown",
   "id": "editorial-mission",
   "metadata": {
    "papermill": {
     "duration": 0.032669,
     "end_time": "2021-07-01T09:53:03.845553",
     "exception": false,
     "start_time": "2021-07-01T09:53:03.812884",
     "status": "completed"
    },
    "tags": []
   },
   "source": [
    "You could insert an order to buy at 148. However, there is nobody currently willing to sell to you at 148, so your order will be sitting in the book, waiting for someone to trade against it. If you get unlucky, the price goes up, and others start bidding at 149, and you never get to buy at all. Alternatively, you could insert an order to buy at 155. The exchange would match this order against the outstanding sell order of one share at 149, so you buy 1 lot at 149. Similarly, you'd buy 12 shares at a price of 150, and 7 shares at 151. Compared to trying to buy at 148, there is no risk of not getting the trade that you wanted, but you do end up buying at a higher price."
   ]
  },
  {
   "cell_type": "markdown",
   "id": "alpha-watch",
   "metadata": {
    "papermill": {
     "duration": 0.032575,
     "end_time": "2021-07-01T09:53:03.911169",
     "exception": false,
     "start_time": "2021-07-01T09:53:03.878594",
     "status": "completed"
    },
    "tags": []
   },
   "source": [
    "You can see that in such an inefficient market it is difficult to trade, as trading will be more expensive, and if you want quality execution of your orders, you need to deal with higher market risk. That is why investors love liquidity, and market makers like Optiver are there to provide it, no matter how extreme market conditions are."
   ]
  },
  {
   "cell_type": "markdown",
   "id": "understanding-villa",
   "metadata": {
    "papermill": {
     "duration": 0.033119,
     "end_time": "2021-07-01T09:53:03.977152",
     "exception": false,
     "start_time": "2021-07-01T09:53:03.944033",
     "status": "completed"
    },
    "tags": []
   },
   "source": [
    "A market maker is a firm or individual who actively quotes two-sided markets in a security, providing bids and offers (known as asks) along with the market size of each. As a market maker will show both bid and offer orders, an order book with the presence of market maker will be more liquid, therefore a more efficient market will be provided to end investors to trade freely without concern on executions."
   ]
  },
  {
   "cell_type": "markdown",
   "id": "independent-platinum",
   "metadata": {
    "papermill": {
     "duration": 0.044277,
     "end_time": "2021-07-01T09:53:04.060328",
     "exception": false,
     "start_time": "2021-07-01T09:53:04.016051",
     "status": "completed"
    },
    "tags": []
   },
   "source": [
    "# Order book statistics\n",
    "There are a lot of statistics Optiver data scientist can derive from raw order book data to reflect market liquidity and stock valuation. These stats are proven to be fundamental inputs of any market prediction algorithms. Below we would like to list some common stats to inspire Kagglers mining more valuable signals from the order book data.\n",
    "\n",
    "Let's come back to the original order book of stock A"
   ]
  },
  {
   "cell_type": "markdown",
   "id": "responsible-suicide",
   "metadata": {
    "papermill": {
     "duration": 0.041758,
     "end_time": "2021-07-01T09:53:04.150075",
     "exception": false,
     "start_time": "2021-07-01T09:53:04.108317",
     "status": "completed"
    },
    "tags": []
   },
   "source": [
    "![order_book_1](https://www.optiver.com/wp-content/uploads/2021/05/OrderBook3.png)"
   ]
  },
  {
   "cell_type": "markdown",
   "id": "precious-complaint",
   "metadata": {
    "papermill": {
     "duration": 0.032477,
     "end_time": "2021-07-01T09:53:04.215341",
     "exception": false,
     "start_time": "2021-07-01T09:53:04.182864",
     "status": "completed"
    },
    "tags": []
   },
   "source": [
    "**bid/ask spread**\n",
    "\n",
    "As different stocks trade on different level on the market we take the ratio of best offer price and best bid price to calculate the bid-ask spread. \n",
    "\n",
    "The formula of bid/ask spread can be written in below form:\n",
    "$$BidAskSpread = BestOffer/BestBid -1$$"
   ]
  },
  {
   "cell_type": "markdown",
   "id": "strong-cache",
   "metadata": {
    "papermill": {
     "duration": 0.032739,
     "end_time": "2021-07-01T09:53:04.281010",
     "exception": false,
     "start_time": "2021-07-01T09:53:04.248271",
     "status": "completed"
    },
    "tags": []
   },
   "source": [
    "**Weighted averaged price**\n",
    "\n",
    "The order book is also one of the primary source for stock valuation. A fair book-based valuation must take two factors into account: the level and the size of orders. In this competition we used weighted averaged price, or WAP, to calculate the instantaneous stock valuation and calculate realized volatility as our target. \n",
    "\n",
    "The formula of WAP can be written as below, which takes the top level price and volume information into account:\n",
    "\n",
    "$$ WAP = \\frac{BidPrice_{1}*AskSize_{1} + AskPrice_{1}*BidSize_{1}}{BidSize_{1} + AskSize_{1}} $$\n",
    "\n",
    "As you can see, if two books have both bid and ask offers on the same price level respectively, the one with more offers in place will generate a lower stock valuation, as there are more intended seller in the book, and more seller implies a fact of more supply on the market resulting in a lower stock valuation.\n",
    "\n",
    "Note that in most of cases, during the continuous trading hours, an order book should not have the scenario when bid order is higher than the offer, or ask, order. In another word, most likely, the bid and ask should never be **in cross.**\n",
    "\n",
    "In this competition the target is constructed from the WAP. The WAP of the order book snapshot is 147.5317797."
   ]
  },
  {
   "cell_type": "markdown",
   "id": "incorporate-fireplace",
   "metadata": {
    "papermill": {
     "duration": 0.033099,
     "end_time": "2021-07-01T09:53:04.347677",
     "exception": false,
     "start_time": "2021-07-01T09:53:04.314578",
     "status": "completed"
    },
    "tags": []
   },
   "source": [
    "# Log returns\n",
    "\n",
    "**How can we compare the price of a stock between yesterday and today?**\n",
    "\n",
    "The easiest method would be to just take the difference. This is definitely the most intuitive way, however **price differences** are not always comparable across stocks. For example, let's assume that we have invested $\\$$1000 dollars in both stock A and stock B and that stock A moves from $\\$$100 to $\\$$102 and stock B moves from $\\$$10 to $\\$$11. We had a total of 10 shares of A ($\\$1000 \\ / \\ \\$100 = 10$) which led to a profit of $10 \\cdot (\\$102 - \\$100) = \\$20$ and a total of 100 shares of B that yielded \\$100. So the price increase was larger for stock **A**, although the move was proportionally much larger for stock B.\n",
    "\n",
    "We can solve the above problem by dividing the move by the starting price of the stock, effectively computing the percentage change in price, also known as the **stock return**. In our example, the return for stock A was $\\frac{\\$102 - \\$100 }{\\$100} = 2\\%$, while for stock B it was $\\frac{\\$11 - \\$10 }{\\$10} = 10\\%$. The stock return coincides with the percentage change in our invested capital.\n",
    "\n",
    "Returns are widely used in finance, however **log returns** are preferred whenever some mathematical modelling is required. Calling $S_t$ the price of the stock $S$ at time $t$, we can define the log return between $t_1$ and $t_2$ as:\n",
    "$$\n",
    "r_{t_1, t_2} = \\log \\left( \\frac{S_{t_2}}{S_{t_1}} \\right)\n",
    "$$\n",
    "Usually, we look at log returns over fixed time intervals, so with 10-minute log return we mean $r_t = r_{t - 10 min, t}$.\n",
    "\n",
    "Log returns present several advantages, for example:\n",
    "- they are additive across time $r_{t_1, t_2} + r_{t_2, t_3} = r_{t_1, t_3}$\n",
    "- regular returns cannot go below -100%, while log returns are not bounded"
   ]
  },
  {
   "cell_type": "markdown",
   "id": "conditional-feeding",
   "metadata": {
    "papermill": {
     "duration": 0.034164,
     "end_time": "2021-07-01T09:53:04.415346",
     "exception": false,
     "start_time": "2021-07-01T09:53:04.381182",
     "status": "completed"
    },
    "tags": []
   },
   "source": [
    "# Realized volatility\n",
    "When we trade options, a valuable input to our models is the standard deviation of the stock log returns. The standard deviation will be different for log returns computed over longer or shorter intervals, for this reason it is usually normalized to a 1-year period and the annualized standard deviation is called **volatility**. \n",
    "\n",
    "In this competition, you will be given 10 minutes of book data and we ask you to predict what the volatility will be in the following 10 minutes. Volatility will be measured as follows:\n",
    "\n",
    "We will compute the log returns over all consecutive book updates and we define the **realized volatility, $\\sigma$,** as the squared root of the sum of squared log returns.\n",
    "$$\n",
    "\\sigma = \\sqrt{\\sum_{t}r_{t-1, t}^2}\n",
    "$$\n",
    "Where we use **WAP** as price of the stock to compute log returns.\n",
    "\n",
    "We want to keep definitions as simple and clear as possible, so that Kagglers without financial knowledge will not be penalized. So we are not annualizing the volatility and we are assuming that log returns have 0 mean."
   ]
  },
  {
   "cell_type": "markdown",
   "id": "scenic-disorder",
   "metadata": {
    "papermill": {
     "duration": 0.032593,
     "end_time": "2021-07-01T09:53:04.481127",
     "exception": false,
     "start_time": "2021-07-01T09:53:04.448534",
     "status": "completed"
    },
    "tags": []
   },
   "source": [
    "# Competition data\n",
    "In this competition, Kagglers are challenged to generate a series of short-term signals from the book and trade data of a fixed 10-minute window to predict the realized volatility of the next 10-minute window. The target, which is given in train/test.csv, can be linked with the raw order book/trade data by the same **time_id** and **stock_id**. There is no overlap between the feature and target window."
   ]
  },
  {
   "cell_type": "markdown",
   "id": "supported-effort",
   "metadata": {
    "papermill": {
     "duration": 0.032592,
     "end_time": "2021-07-01T09:53:04.546453",
     "exception": false,
     "start_time": "2021-07-01T09:53:04.513861",
     "status": "completed"
    },
    "tags": []
   },
   "source": [
    "Note that the competition data will come with partitioned parquet file. You can find a tutorial of parquet file handling in this [notebook](https://www.kaggle.com/sohier/working-with-parquet)"
   ]
  },
  {
   "cell_type": "code",
   "execution_count": 1,
   "id": "controversial-lending",
   "metadata": {
    "execution": {
     "iopub.execute_input": "2021-07-01T09:53:04.627393Z",
     "iopub.status.busy": "2021-07-01T09:53:04.626729Z",
     "iopub.status.idle": "2021-07-01T09:53:06.447238Z",
     "shell.execute_reply": "2021-07-01T09:53:06.446568Z",
     "shell.execute_reply.started": "2021-06-25T12:16:46.196003Z"
    },
    "papermill": {
     "duration": 1.865951,
     "end_time": "2021-07-01T09:53:06.447406",
     "exception": false,
     "start_time": "2021-07-01T09:53:04.581455",
     "status": "completed"
    },
    "tags": []
   },
   "outputs": [
    {
     "data": {
      "text/html": [
       "<div>\n",
       "<style scoped>\n",
       "    .dataframe tbody tr th:only-of-type {\n",
       "        vertical-align: middle;\n",
       "    }\n",
       "\n",
       "    .dataframe tbody tr th {\n",
       "        vertical-align: top;\n",
       "    }\n",
       "\n",
       "    .dataframe thead th {\n",
       "        text-align: right;\n",
       "    }\n",
       "</style>\n",
       "<table border=\"1\" class=\"dataframe\">\n",
       "  <thead>\n",
       "    <tr style=\"text-align: right;\">\n",
       "      <th></th>\n",
       "      <th>stock_id</th>\n",
       "      <th>time_id</th>\n",
       "      <th>target</th>\n",
       "    </tr>\n",
       "  </thead>\n",
       "  <tbody>\n",
       "    <tr>\n",
       "      <th>0</th>\n",
       "      <td>0</td>\n",
       "      <td>5</td>\n",
       "      <td>0.004136</td>\n",
       "    </tr>\n",
       "    <tr>\n",
       "      <th>1</th>\n",
       "      <td>0</td>\n",
       "      <td>11</td>\n",
       "      <td>0.001445</td>\n",
       "    </tr>\n",
       "    <tr>\n",
       "      <th>2</th>\n",
       "      <td>0</td>\n",
       "      <td>16</td>\n",
       "      <td>0.002168</td>\n",
       "    </tr>\n",
       "    <tr>\n",
       "      <th>3</th>\n",
       "      <td>0</td>\n",
       "      <td>31</td>\n",
       "      <td>0.002195</td>\n",
       "    </tr>\n",
       "    <tr>\n",
       "      <th>4</th>\n",
       "      <td>0</td>\n",
       "      <td>62</td>\n",
       "      <td>0.001747</td>\n",
       "    </tr>\n",
       "  </tbody>\n",
       "</table>\n",
       "</div>"
      ],
      "text/plain": [
       "   stock_id  time_id    target\n",
       "0         0        5  0.004136\n",
       "1         0       11  0.001445\n",
       "2         0       16  0.002168\n",
       "3         0       31  0.002195\n",
       "4         0       62  0.001747"
      ]
     },
     "execution_count": 1,
     "metadata": {},
     "output_type": "execute_result"
    }
   ],
   "source": [
    "import pandas as pd\n",
    "import numpy as np\n",
    "import plotly.express as px\n",
    "train = pd.read_csv('optiver-realized-volatility-prediction/train.csv')\n",
    "train.head()"
   ]
  },
  {
   "cell_type": "markdown",
   "id": "choice-casino",
   "metadata": {
    "papermill": {
     "duration": 0.032851,
     "end_time": "2021-07-01T09:53:06.514247",
     "exception": false,
     "start_time": "2021-07-01T09:53:06.481396",
     "status": "completed"
    },
    "tags": []
   },
   "source": [
    "Taking the first row of data, it implies that the realized vol of the **target bucket** for time_id 5, stock_id 0 is 0.004136. How does the book and trade data in **feature bucket** look like for us to build signals?"
   ]
  },
  {
   "cell_type": "code",
   "execution_count": 2,
   "id": "hawaiian-central",
   "metadata": {
    "execution": {
     "iopub.execute_input": "2021-07-01T09:53:06.588128Z",
     "iopub.status.busy": "2021-07-01T09:53:06.587467Z",
     "iopub.status.idle": "2021-07-01T09:53:07.133056Z",
     "shell.execute_reply": "2021-07-01T09:53:07.132358Z",
     "shell.execute_reply.started": "2021-06-25T12:16:50.514371Z"
    },
    "papermill": {
     "duration": 0.584657,
     "end_time": "2021-07-01T09:53:07.133221",
     "exception": false,
     "start_time": "2021-07-01T09:53:06.548564",
     "status": "completed"
    },
    "tags": []
   },
   "outputs": [],
   "source": [
    "book_example = pd.read_parquet('optiver-realized-volatility-prediction/book_train.parquet/stock_id=0')\n",
    "trade_example =  pd.read_parquet('optiver-realized-volatility-prediction/trade_train.parquet/stock_id=0')\n",
    "stock_id = '0'\n",
    "book_example = book_example[book_example['time_id']==5]\n",
    "book_example.loc[:,'stock_id'] = stock_id\n",
    "trade_example = trade_example[trade_example['time_id']==5]\n",
    "trade_example.loc[:,'stock_id'] = stock_id"
   ]
  },
  {
   "cell_type": "markdown",
   "id": "assumed-arrival",
   "metadata": {
    "papermill": {
     "duration": 0.033189,
     "end_time": "2021-07-01T09:53:07.199700",
     "exception": false,
     "start_time": "2021-07-01T09:53:07.166511",
     "status": "completed"
    },
    "tags": []
   },
   "source": [
    "**book data snapshot**"
   ]
  },
  {
   "cell_type": "code",
   "execution_count": 3,
   "id": "later-thing",
   "metadata": {
    "execution": {
     "iopub.execute_input": "2021-07-01T09:53:07.270453Z",
     "iopub.status.busy": "2021-07-01T09:53:07.269808Z",
     "iopub.status.idle": "2021-07-01T09:53:07.286554Z",
     "shell.execute_reply": "2021-07-01T09:53:07.285888Z",
     "shell.execute_reply.started": "2021-06-22T17:05:57.255543Z"
    },
    "papermill": {
     "duration": 0.052862,
     "end_time": "2021-07-01T09:53:07.286700",
     "exception": false,
     "start_time": "2021-07-01T09:53:07.233838",
     "status": "completed"
    },
    "tags": []
   },
   "outputs": [
    {
     "data": {
      "text/html": [
       "<div>\n",
       "<style scoped>\n",
       "    .dataframe tbody tr th:only-of-type {\n",
       "        vertical-align: middle;\n",
       "    }\n",
       "\n",
       "    .dataframe tbody tr th {\n",
       "        vertical-align: top;\n",
       "    }\n",
       "\n",
       "    .dataframe thead th {\n",
       "        text-align: right;\n",
       "    }\n",
       "</style>\n",
       "<table border=\"1\" class=\"dataframe\">\n",
       "  <thead>\n",
       "    <tr style=\"text-align: right;\">\n",
       "      <th></th>\n",
       "      <th>time_id</th>\n",
       "      <th>seconds_in_bucket</th>\n",
       "      <th>bid_price1</th>\n",
       "      <th>ask_price1</th>\n",
       "      <th>bid_price2</th>\n",
       "      <th>ask_price2</th>\n",
       "      <th>bid_size1</th>\n",
       "      <th>ask_size1</th>\n",
       "      <th>bid_size2</th>\n",
       "      <th>ask_size2</th>\n",
       "      <th>stock_id</th>\n",
       "    </tr>\n",
       "  </thead>\n",
       "  <tbody>\n",
       "    <tr>\n",
       "      <th>0</th>\n",
       "      <td>5</td>\n",
       "      <td>0</td>\n",
       "      <td>1.001422</td>\n",
       "      <td>1.002301</td>\n",
       "      <td>1.00137</td>\n",
       "      <td>1.002353</td>\n",
       "      <td>3</td>\n",
       "      <td>226</td>\n",
       "      <td>2</td>\n",
       "      <td>100</td>\n",
       "      <td>0</td>\n",
       "    </tr>\n",
       "    <tr>\n",
       "      <th>1</th>\n",
       "      <td>5</td>\n",
       "      <td>1</td>\n",
       "      <td>1.001422</td>\n",
       "      <td>1.002301</td>\n",
       "      <td>1.00137</td>\n",
       "      <td>1.002353</td>\n",
       "      <td>3</td>\n",
       "      <td>100</td>\n",
       "      <td>2</td>\n",
       "      <td>100</td>\n",
       "      <td>0</td>\n",
       "    </tr>\n",
       "    <tr>\n",
       "      <th>2</th>\n",
       "      <td>5</td>\n",
       "      <td>5</td>\n",
       "      <td>1.001422</td>\n",
       "      <td>1.002301</td>\n",
       "      <td>1.00137</td>\n",
       "      <td>1.002405</td>\n",
       "      <td>3</td>\n",
       "      <td>100</td>\n",
       "      <td>2</td>\n",
       "      <td>100</td>\n",
       "      <td>0</td>\n",
       "    </tr>\n",
       "    <tr>\n",
       "      <th>3</th>\n",
       "      <td>5</td>\n",
       "      <td>6</td>\n",
       "      <td>1.001422</td>\n",
       "      <td>1.002301</td>\n",
       "      <td>1.00137</td>\n",
       "      <td>1.002405</td>\n",
       "      <td>3</td>\n",
       "      <td>126</td>\n",
       "      <td>2</td>\n",
       "      <td>100</td>\n",
       "      <td>0</td>\n",
       "    </tr>\n",
       "    <tr>\n",
       "      <th>4</th>\n",
       "      <td>5</td>\n",
       "      <td>7</td>\n",
       "      <td>1.001422</td>\n",
       "      <td>1.002301</td>\n",
       "      <td>1.00137</td>\n",
       "      <td>1.002405</td>\n",
       "      <td>3</td>\n",
       "      <td>126</td>\n",
       "      <td>2</td>\n",
       "      <td>100</td>\n",
       "      <td>0</td>\n",
       "    </tr>\n",
       "  </tbody>\n",
       "</table>\n",
       "</div>"
      ],
      "text/plain": [
       "   time_id  seconds_in_bucket  bid_price1  ask_price1  bid_price2  ask_price2  \\\n",
       "0        5                  0    1.001422    1.002301     1.00137    1.002353   \n",
       "1        5                  1    1.001422    1.002301     1.00137    1.002353   \n",
       "2        5                  5    1.001422    1.002301     1.00137    1.002405   \n",
       "3        5                  6    1.001422    1.002301     1.00137    1.002405   \n",
       "4        5                  7    1.001422    1.002301     1.00137    1.002405   \n",
       "\n",
       "   bid_size1  ask_size1  bid_size2  ask_size2 stock_id  \n",
       "0          3        226          2        100        0  \n",
       "1          3        100          2        100        0  \n",
       "2          3        100          2        100        0  \n",
       "3          3        126          2        100        0  \n",
       "4          3        126          2        100        0  "
      ]
     },
     "execution_count": 3,
     "metadata": {},
     "output_type": "execute_result"
    }
   ],
   "source": [
    "book_example.head()"
   ]
  },
  {
   "cell_type": "code",
   "execution_count": 4,
   "id": "b4a1a65c",
   "metadata": {},
   "outputs": [
    {
     "data": {
      "text/plain": [
       "(302, 11)"
      ]
     },
     "execution_count": 4,
     "metadata": {},
     "output_type": "execute_result"
    }
   ],
   "source": [
    "book_example.shape"
   ]
  },
  {
   "cell_type": "code",
   "execution_count": 5,
   "id": "1b8637a3",
   "metadata": {},
   "outputs": [
    {
     "data": {
      "text/plain": [
       "593"
      ]
     },
     "execution_count": 5,
     "metadata": {},
     "output_type": "execute_result"
    }
   ],
   "source": [
    "max(book_example['seconds_in_bucket'])"
   ]
  },
  {
   "cell_type": "markdown",
   "id": "yellow-acceptance",
   "metadata": {
    "papermill": {
     "duration": 0.033754,
     "end_time": "2021-07-01T09:53:07.354233",
     "exception": false,
     "start_time": "2021-07-01T09:53:07.320479",
     "status": "completed"
    },
    "tags": []
   },
   "source": [
    "**trade date snapshot**"
   ]
  },
  {
   "cell_type": "code",
   "execution_count": 6,
   "id": "productive-frame",
   "metadata": {
    "execution": {
     "iopub.execute_input": "2021-07-01T09:53:07.426267Z",
     "iopub.status.busy": "2021-07-01T09:53:07.425279Z",
     "iopub.status.idle": "2021-07-01T09:53:07.438549Z",
     "shell.execute_reply": "2021-07-01T09:53:07.439110Z",
     "shell.execute_reply.started": "2021-06-22T17:05:58.726886Z"
    },
    "papermill": {
     "duration": 0.051187,
     "end_time": "2021-07-01T09:53:07.439325",
     "exception": false,
     "start_time": "2021-07-01T09:53:07.388138",
     "status": "completed"
    },
    "tags": []
   },
   "outputs": [
    {
     "data": {
      "text/html": [
       "<div>\n",
       "<style scoped>\n",
       "    .dataframe tbody tr th:only-of-type {\n",
       "        vertical-align: middle;\n",
       "    }\n",
       "\n",
       "    .dataframe tbody tr th {\n",
       "        vertical-align: top;\n",
       "    }\n",
       "\n",
       "    .dataframe thead th {\n",
       "        text-align: right;\n",
       "    }\n",
       "</style>\n",
       "<table border=\"1\" class=\"dataframe\">\n",
       "  <thead>\n",
       "    <tr style=\"text-align: right;\">\n",
       "      <th></th>\n",
       "      <th>time_id</th>\n",
       "      <th>seconds_in_bucket</th>\n",
       "      <th>price</th>\n",
       "      <th>size</th>\n",
       "      <th>order_count</th>\n",
       "      <th>stock_id</th>\n",
       "    </tr>\n",
       "  </thead>\n",
       "  <tbody>\n",
       "    <tr>\n",
       "      <th>0</th>\n",
       "      <td>5</td>\n",
       "      <td>21</td>\n",
       "      <td>1.002301</td>\n",
       "      <td>326</td>\n",
       "      <td>12</td>\n",
       "      <td>0</td>\n",
       "    </tr>\n",
       "    <tr>\n",
       "      <th>1</th>\n",
       "      <td>5</td>\n",
       "      <td>46</td>\n",
       "      <td>1.002778</td>\n",
       "      <td>128</td>\n",
       "      <td>4</td>\n",
       "      <td>0</td>\n",
       "    </tr>\n",
       "    <tr>\n",
       "      <th>2</th>\n",
       "      <td>5</td>\n",
       "      <td>50</td>\n",
       "      <td>1.002818</td>\n",
       "      <td>55</td>\n",
       "      <td>1</td>\n",
       "      <td>0</td>\n",
       "    </tr>\n",
       "    <tr>\n",
       "      <th>3</th>\n",
       "      <td>5</td>\n",
       "      <td>57</td>\n",
       "      <td>1.003155</td>\n",
       "      <td>121</td>\n",
       "      <td>5</td>\n",
       "      <td>0</td>\n",
       "    </tr>\n",
       "    <tr>\n",
       "      <th>4</th>\n",
       "      <td>5</td>\n",
       "      <td>68</td>\n",
       "      <td>1.003646</td>\n",
       "      <td>4</td>\n",
       "      <td>1</td>\n",
       "      <td>0</td>\n",
       "    </tr>\n",
       "  </tbody>\n",
       "</table>\n",
       "</div>"
      ],
      "text/plain": [
       "   time_id  seconds_in_bucket     price  size  order_count stock_id\n",
       "0        5                 21  1.002301   326           12        0\n",
       "1        5                 46  1.002778   128            4        0\n",
       "2        5                 50  1.002818    55            1        0\n",
       "3        5                 57  1.003155   121            5        0\n",
       "4        5                 68  1.003646     4            1        0"
      ]
     },
     "execution_count": 6,
     "metadata": {},
     "output_type": "execute_result"
    }
   ],
   "source": [
    "trade_example.head()"
   ]
  },
  {
   "cell_type": "markdown",
   "id": "leading-notice",
   "metadata": {
    "papermill": {
     "duration": 0.034491,
     "end_time": "2021-07-01T09:53:07.511867",
     "exception": false,
     "start_time": "2021-07-01T09:53:07.477376",
     "status": "completed"
    },
    "tags": []
   },
   "source": [
    "**Realized volatility calculation in python**"
   ]
  },
  {
   "cell_type": "markdown",
   "id": "certain-scope",
   "metadata": {
    "papermill": {
     "duration": 0.033739,
     "end_time": "2021-07-01T09:53:07.579673",
     "exception": false,
     "start_time": "2021-07-01T09:53:07.545934",
     "status": "completed"
    },
    "tags": []
   },
   "source": [
    "In this competition, our target is to predict short-term realized volatility. Although the order book and trade data for the target cannot be shared, we can still present the realized volatility calculation using the feature data we provided. \n",
    "\n",
    "As realized volatility is a statistical measure of price changes on a given stock, to calculate the price change we first need to have a stock valuation at the fixed interval (1 second). We will use weighted averaged price, or WAP, of the order book data we provided."
   ]
  },
  {
   "cell_type": "code",
   "execution_count": 7,
   "id": "outdoor-lounge",
   "metadata": {
    "execution": {
     "iopub.execute_input": "2021-07-01T09:53:07.652283Z",
     "iopub.status.busy": "2021-07-01T09:53:07.651237Z",
     "iopub.status.idle": "2021-07-01T09:53:07.661045Z",
     "shell.execute_reply": "2021-07-01T09:53:07.661564Z",
     "shell.execute_reply.started": "2021-06-25T12:19:38.572508Z"
    },
    "papermill": {
     "duration": 0.047303,
     "end_time": "2021-07-01T09:53:07.661777",
     "exception": false,
     "start_time": "2021-07-01T09:53:07.614474",
     "status": "completed"
    },
    "tags": []
   },
   "outputs": [],
   "source": [
    "book_example['wap'] = (book_example['bid_price1'] * book_example['ask_size1'] +\n",
    "                                book_example['ask_price1'] * book_example['bid_size1']) / (\n",
    "                                       book_example['bid_size1']+ book_example['ask_size1'])"
   ]
  },
  {
   "cell_type": "code",
   "execution_count": 8,
   "id": "6f230f1b",
   "metadata": {},
   "outputs": [
    {
     "data": {
      "text/plain": [
       "<matplotlib.legend.Legend at 0x11e881030>"
      ]
     },
     "execution_count": 8,
     "metadata": {},
     "output_type": "execute_result"
    },
    {
     "data": {
      "image/png": "[encoded data removed]",
      "text/plain": [
       "<Figure size 2000x1000 with 1 Axes>"
      ]
     },
     "metadata": {},
     "output_type": "display_data"
    }
   ],
   "source": [
    "import matplotlib.pyplot as plt\n",
    "\n",
    "plt.figure(figsize=(20, 10))\n",
    "plt.plot(book_example[\"ask_price1\"], label='ask_price1')\n",
    "plt.plot(book_example[\"bid_price1\"], label='bid_price1')\n",
    "plt.plot(book_example[\"ask_price2\"], label='ask_price2')\n",
    "plt.plot(book_example[\"bid_price2\"], label='bid_price2')\n",
    "plt.legend()"
   ]
  },
  {
   "cell_type": "markdown",
   "id": "solid-prayer",
   "metadata": {
    "papermill": {
     "duration": 0.033742,
     "end_time": "2021-07-01T09:53:07.729971",
     "exception": false,
     "start_time": "2021-07-01T09:53:07.696229",
     "status": "completed"
    },
    "tags": []
   },
   "source": [
    "**The WAP of the stock is plotted below**"
   ]
  },
  {
   "cell_type": "code",
   "execution_count": 9,
   "id": "diagnostic-present",
   "metadata": {
    "execution": {
     "iopub.execute_input": "2021-07-01T09:53:07.801771Z",
     "iopub.status.busy": "2021-07-01T09:53:07.800763Z",
     "iopub.status.idle": "2021-07-01T09:53:09.158872Z",
     "shell.execute_reply": "2021-07-01T09:53:09.158131Z",
     "shell.execute_reply.started": "2021-06-22T17:13:08.574265Z"
    },
    "papermill": {
     "duration": 1.395043,
     "end_time": "2021-07-01T09:53:09.159031",
     "exception": false,
     "start_time": "2021-07-01T09:53:07.763988",
     "status": "completed"
    },
    "tags": []
   },
   "outputs": [
    {
     "data": {
      "application/vnd.plotly.v1+json": {
       "config": {
        "plotlyServerURL": "https://plot.ly"
       },
       "data": [
        {
         "hovertemplate": "seconds_in_bucket=%{x}<br>wap=%{y}<extra></extra>",
         "legendgroup": "",
         "line": {
          "color": "#636efa",
          "dash": "solid"
         },
         "marker": {
          "symbol": "circle"
         },
         "mode": "lines",
         "name": "",
         "orientation": "v",
         "showlegend": false,
         "type": "scatter",
         "x": {
          "bdata": "AAABAAUABgAHAAsADAAOAA8AEAARABIAEwAVABgAGQAsAC4ALwAwADIAMwA3ADkAOwA8AD8ARABFAE4ATwBRAFMAVQBaAFwAXQBeAGEAYgBlAGcAaQBqAG4AbwBxAHIAcwB2AHcAegB7AHwAfgB/AIAAgQCEAIUAhgCKAIwAjQCPAJAAkQCTAJQAlQCWAJcAmACZAJoAngCfAKAAoQCkAKUApgCnAKgAqQCrAK0ArgCvALEAsgC1ALYAtwC5ALoAuwC8AL0AvgC/AMAAwQDCAMMAxADFAMYAxwDIAMkAywDMAM0AzgDPANEA0wDUANUA1wDYANoA2wDdAN4A3wDgAOEA4gDjAOQA5gDnAOgA6QDqAOsA7QDvAPgA/QD+AP8AAAEBAQIBAwEEAQcBCAEJAQ0BFgEaARsBHwEgASIBJQEnASgBKgEtAS8BMAExATIBNAE1ATYBNwE4ATkBOgE8AUIBQwFJAUsBUAFSAVQBWQFcAV4BYQFkAWsBbQFuAW8BdgF6AXwBfgGBAYIBhAGFAYcBigGOAY8BkAGRAZIBkwGUAZYBmgGbAaABqQGqAasBrAGuAa8BsQGyAbMBtQG2AbgBuQG6AbsBvAG9Ab4BvwHAAcEB0AHRAdIB0wHWAdcB2AHZAdoB2wHdAd4B3wHoAekB7wHwAfIB9wH/AQECAgIDAgQCBgIHAggCCQIKAgsCDAINAg4CEAITAhQCFgIXAhoCGwIcAh0CHgIhAiICJAIlAiYCJwIoAisCLgIxAjICMwI7AjwCPQI+Aj8CQwJFAkgCSQJKAksCTAJRAg==",
          "dtype": "i2"
         },
         "xaxis": "x",
         "y": {
          "bdata": "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",
          "dtype": "f8"
         },
         "yaxis": "y"
        }
       ],
       "layout": {
        "legend": {
         "tracegroupgap": 0
        },
        "template": {
         "data": {
          "bar": [
           {
            "error_x": {
             "color": "#2a3f5f"
            },
            "error_y": {
             "color": "#2a3f5f"
            },
            "marker": {
             "line": {
              "color": "#E5ECF6",
              "width": 0.5
             },
             "pattern": {
              "fillmode": "overlay",
              "size": 10,
              "solidity": 0.2
             }
            },
            "type": "bar"
           }
          ],
          "barpolar": [
           {
            "marker": {
             "line": {
              "color": "#E5ECF6",
              "width": 0.5
             },
             "pattern": {
              "fillmode": "overlay",
              "size": 10,
              "solidity": 0.2
             }
            },
            "type": "barpolar"
           }
          ],
          "carpet": [
           {
            "aaxis": {
             "endlinecolor": "#2a3f5f",
             "gridcolor": "white",
             "linecolor": "white",
             "minorgridcolor": "white",
             "startlinecolor": "#2a3f5f"
            },
            "baxis": {
             "endlinecolor": "#2a3f5f",
             "gridcolor": "white",
             "linecolor": "white",
             "minorgridcolor": "white",
             "startlinecolor": "#2a3f5f"
            },
            "type": "carpet"
           }
          ],
          "choropleth": [
           {
            "colorbar": {
             "outlinewidth": 0,
             "ticks": ""
            },
            "type": "choropleth"
           }
          ],
          "contour": [
           {
            "colorbar": {
             "outlinewidth": 0,
             "ticks": ""
            },
            "colorscale": [
             [
              0,
              "#0d0887"
             ],
             [
              0.1111111111111111,
              "#46039f"
             ],
             [
              0.2222222222222222,
              "#7201a8"
             ],
             [
              0.3333333333333333,
              "#9c179e"
             ],
             [
              0.4444444444444444,
              "#bd3786"
             ],
             [
              0.5555555555555556,
              "#d8576b"
             ],
             [
              0.6666666666666666,
              "#ed7953"
             ],
             [
              0.7777777777777778,
              "#fb9f3a"
             ],
             [
              0.8888888888888888,
              "#fdca26"
             ],
             [
              1,
              "#f0f921"
             ]
            ],
            "type": "contour"
           }
          ],
          "contourcarpet": [
           {
            "colorbar": {
             "outlinewidth": 0,
             "ticks": ""
            },
            "type": "contourcarpet"
           }
          ],
          "heatmap": [
           {
            "colorbar": {
             "outlinewidth": 0,
             "ticks": ""
            },
            "colorscale": [
             [
              0,
              "#0d0887"
             ],
             [
              0.1111111111111111,
              "#46039f"
             ],
             [
              0.2222222222222222,
              "#7201a8"
             ],
             [
              0.3333333333333333,
              "#9c179e"
             ],
             [
              0.4444444444444444,
              "#bd3786"
             ],
             [
              0.5555555555555556,
              "#d8576b"
             ],
             [
              0.6666666666666666,
              "#ed7953"
             ],
             [
              0.7777777777777778,
              "#fb9f3a"
             ],
             [
              0.8888888888888888,
              "#fdca26"
             ],
             [
              1,
              "#f0f921"
             ]
            ],
            "type": "heatmap"
           }
          ],
          "histogram": [
           {
            "marker": {
             "pattern": {
              "fillmode": "overlay",
              "size": 10,
              "solidity": 0.2
             }
            },
            "type": "histogram"
           }
          ],
          "histogram2d": [
           {
            "colorbar": {
             "outlinewidth": 0,
             "ticks": ""
            },
            "colorscale": [
             [
              0,
              "#0d0887"
             ],
             [
              0.1111111111111111,
              "#46039f"
             ],
             [
              0.2222222222222222,
              "#7201a8"
             ],
             [
              0.3333333333333333,
              "#9c179e"
             ],
             [
              0.4444444444444444,
              "#bd3786"
             ],
             [
              0.5555555555555556,
              "#d8576b"
             ],
             [
              0.6666666666666666,
              "#ed7953"
             ],
             [
              0.7777777777777778,
              "#fb9f3a"
             ],
             [
              0.8888888888888888,
              "#fdca26"
             ],
             [
              1,
              "#f0f921"
             ]
            ],
            "type": "histogram2d"
           }
          ],
          "histogram2dcontour": [
           {
            "colorbar": {
             "outlinewidth": 0,
             "ticks": ""
            },
            "colorscale": [
             [
              0,
              "#0d0887"
             ],
             [
              0.1111111111111111,
              "#46039f"
             ],
             [
              0.2222222222222222,
              "#7201a8"
             ],
             [
              0.3333333333333333,
              "#9c179e"
             ],
             [
              0.4444444444444444,
              "#bd3786"
             ],
             [
              0.5555555555555556,
              "#d8576b"
             ],
             [
              0.6666666666666666,
              "#ed7953"
             ],
             [
              0.7777777777777778,
              "#fb9f3a"
             ],
             [
              0.8888888888888888,
              "#fdca26"
             ],
             [
              1,
              "#f0f921"
             ]
            ],
            "type": "histogram2dcontour"
           }
          ],
          "mesh3d": [
           {
            "colorbar": {
             "outlinewidth": 0,
             "ticks": ""
            },
            "type": "mesh3d"
           }
          ],
          "parcoords": [
           {
            "line": {
             "colorbar": {
              "outlinewidth": 0,
              "ticks": ""
             }
            },
            "type": "parcoords"
           }
          ],
          "pie": [
           {
            "automargin": true,
            "type": "pie"
           }
          ],
          "scatter": [
           {
            "fillpattern": {
             "fillmode": "overlay",
             "size": 10,
             "solidity": 0.2
            },
            "type": "scatter"
           }
          ],
          "scatter3d": [
           {
            "line": {
             "colorbar": {
              "outlinewidth": 0,
              "ticks": ""
             }
            },
            "marker": {
             "colorbar": {
              "outlinewidth": 0,
              "ticks": ""
             }
            },
            "type": "scatter3d"
           }
          ],
          "scattercarpet": [
           {
            "marker": {
             "colorbar": {
              "outlinewidth": 0,
              "ticks": ""
             }
            },
            "type": "scattercarpet"
           }
          ],
          "scattergeo": [
           {
            "marker": {
             "colorbar": {
              "outlinewidth": 0,
              "ticks": ""
             }
            },
            "type": "scattergeo"
           }
          ],
          "scattergl": [
           {
            "marker": {
             "colorbar": {
              "outlinewidth": 0,
              "ticks": ""
             }
            },
            "type": "scattergl"
           }
          ],
          "scattermap": [
           {
            "marker": {
             "colorbar": {
              "outlinewidth": 0,
              "ticks": ""
             }
            },
            "type": "scattermap"
           }
          ],
          "scattermapbox": [
           {
            "marker": {
             "colorbar": {
              "outlinewidth": 0,
              "ticks": ""
             }
            },
            "type": "scattermapbox"
           }
          ],
          "scatterpolar": [
           {
            "marker": {
             "colorbar": {
              "outlinewidth": 0,
              "ticks": ""
             }
            },
            "type": "scatterpolar"
           }
          ],
          "scatterpolargl": [
           {
            "marker": {
             "colorbar": {
              "outlinewidth": 0,
              "ticks": ""
             }
            },
            "type": "scatterpolargl"
           }
          ],
          "scatterternary": [
           {
            "marker": {
             "colorbar": {
              "outlinewidth": 0,
              "ticks": ""
             }
            },
            "type": "scatterternary"
           }
          ],
          "surface": [
           {
            "colorbar": {
             "outlinewidth": 0,
             "ticks": ""
            },
            "colorscale": [
             [
              0,
              "#0d0887"
             ],
             [
              0.1111111111111111,
              "#46039f"
             ],
             [
              0.2222222222222222,
              "#7201a8"
             ],
             [
              0.3333333333333333,
              "#9c179e"
             ],
             [
              0.4444444444444444,
              "#bd3786"
             ],
             [
              0.5555555555555556,
              "#d8576b"
             ],
             [
              0.6666666666666666,
              "#ed7953"
             ],
             [
              0.7777777777777778,
              "#fb9f3a"
             ],
             [
              0.8888888888888888,
              "#fdca26"
             ],
             [
              1,
              "#f0f921"
             ]
            ],
            "type": "surface"
           }
          ],
          "table": [
           {
            "cells": {
             "fill": {
              "color": "#EBF0F8"
             },
             "line": {
              "color": "white"
             }
            },
            "header": {
             "fill": {
              "color": "#C8D4E3"
             },
             "line": {
              "color": "white"
             }
            },
            "type": "table"
           }
          ]
         },
         "layout": {
          "annotationdefaults": {
           "arrowcolor": "#2a3f5f",
           "arrowhead": 0,
           "arrowwidth": 1
          },
          "autotypenumbers": "strict",
          "coloraxis": {
           "colorbar": {
            "outlinewidth": 0,
            "ticks": ""
           }
          },
          "colorscale": {
           "diverging": [
            [
             0,
             "#8e0152"
            ],
            [
             0.1,
             "#c51b7d"
            ],
            [
             0.2,
             "#de77ae"
            ],
            [
             0.3,
             "#f1b6da"
            ],
            [
             0.4,
             "#fde0ef"
            ],
            [
             0.5,
             "#f7f7f7"
            ],
            [
             0.6,
             "#e6f5d0"
            ],
            [
             0.7,
             "#b8e186"
            ],
            [
             0.8,
             "#7fbc41"
            ],
            [
             0.9,
             "#4d9221"
            ],
            [
             1,
             "#276419"
            ]
           ],
           "sequential": [
            [
             0,
             "#0d0887"
            ],
            [
             0.1111111111111111,
             "#46039f"
            ],
            [
             0.2222222222222222,
             "#7201a8"
            ],
            [
             0.3333333333333333,
             "#9c179e"
            ],
            [
             0.4444444444444444,
             "#bd3786"
            ],
            [
             0.5555555555555556,
             "#d8576b"
            ],
            [
             0.6666666666666666,
             "#ed7953"
            ],
            [
             0.7777777777777778,
             "#fb9f3a"
            ],
            [
             0.8888888888888888,
             "#fdca26"
            ],
            [
             1,
             "#f0f921"
            ]
           ],
           "sequentialminus": [
            [
             0,
             "#0d0887"
            ],
            [
             0.1111111111111111,
             "#46039f"
            ],
            [
             0.2222222222222222,
             "#7201a8"
            ],
            [
             0.3333333333333333,
             "#9c179e"
            ],
            [
             0.4444444444444444,
             "#bd3786"
            ],
            [
             0.5555555555555556,
             "#d8576b"
            ],
            [
             0.6666666666666666,
             "#ed7953"
            ],
            [
             0.7777777777777778,
             "#fb9f3a"
            ],
            [
             0.8888888888888888,
             "#fdca26"
            ],
            [
             1,
             "#f0f921"
            ]
           ]
          },
          "colorway": [
           "#636efa",
           "#EF553B",
           "#00cc96",
           "#ab63fa",
           "#FFA15A",
           "#19d3f3",
           "#FF6692",
           "#B6E880",
           "#FF97FF",
           "#FECB52"
          ],
          "font": {
           "color": "#2a3f5f"
          },
          "geo": {
           "bgcolor": "white",
           "lakecolor": "white",
           "landcolor": "#E5ECF6",
           "showlakes": true,
           "showland": true,
           "subunitcolor": "white"
          },
          "hoverlabel": {
           "align": "left"
          },
          "hovermode": "closest",
          "mapbox": {
           "style": "light"
          },
          "paper_bgcolor": "white",
          "plot_bgcolor": "#E5ECF6",
          "polar": {
           "angularaxis": {
            "gridcolor": "white",
            "linecolor": "white",
            "ticks": ""
           },
           "bgcolor": "#E5ECF6",
           "radialaxis": {
            "gridcolor": "white",
            "linecolor": "white",
            "ticks": ""
           }
          },
          "scene": {
           "xaxis": {
            "backgroundcolor": "#E5ECF6",
            "gridcolor": "white",
            "gridwidth": 2,
            "linecolor": "white",
            "showbackground": true,
            "ticks": "",
            "zerolinecolor": "white"
           },
           "yaxis": {
            "backgroundcolor": "#E5ECF6",
            "gridcolor": "white",
            "gridwidth": 2,
            "linecolor": "white",
            "showbackground": true,
            "ticks": "",
            "zerolinecolor": "white"
           },
           "zaxis": {
            "backgroundcolor": "#E5ECF6",
            "gridcolor": "white",
            "gridwidth": 2,
            "linecolor": "white",
            "showbackground": true,
            "ticks": "",
            "zerolinecolor": "white"
           }
          },
          "shapedefaults": {
           "line": {
            "color": "#2a3f5f"
           }
          },
          "ternary": {
           "aaxis": {
            "gridcolor": "white",
            "linecolor": "white",
            "ticks": ""
           },
           "baxis": {
            "gridcolor": "white",
            "linecolor": "white",
            "ticks": ""
           },
           "bgcolor": "#E5ECF6",
           "caxis": {
            "gridcolor": "white",
            "linecolor": "white",
            "ticks": ""
           }
          },
          "title": {
           "x": 0.05
          },
          "xaxis": {
           "automargin": true,
           "gridcolor": "white",
           "linecolor": "white",
           "ticks": "",
           "title": {
            "standoff": 15
           },
           "zerolinecolor": "white",
           "zerolinewidth": 2
          },
          "yaxis": {
           "automargin": true,
           "gridcolor": "white",
           "linecolor": "white",
           "ticks": "",
           "title": {
            "standoff": 15
           },
           "zerolinecolor": "white",
           "zerolinewidth": 2
          }
         }
        },
        "title": {
         "text": "WAP of stock_id_0, time_id_5"
        },
        "xaxis": {
         "anchor": "y",
         "domain": [
          0,
          1
         ],
         "title": {
          "text": "seconds_in_bucket"
         }
        },
        "yaxis": {
         "anchor": "x",
         "domain": [
          0,
          1
         ],
         "title": {
          "text": "wap"
         }
        }
       }
      }
     },
     "metadata": {},
     "output_type": "display_data"
    }
   ],
   "source": [
    "fig = px.line(book_example, x=\"seconds_in_bucket\", y=\"wap\", title='WAP of stock_id_0, time_id_5')\n",
    "fig.show()"
   ]
  },
  {
   "cell_type": "code",
   "execution_count": 10,
   "id": "517d37b5",
   "metadata": {},
   "outputs": [
    {
     "data": {
      "text/plain": [
       "428960"
      ]
     },
     "execution_count": 10,
     "metadata": {},
     "output_type": "execute_result"
    }
   ],
   "source": [
    "3830*112"
   ]
  },
  {
   "cell_type": "code",
   "execution_count": 11,
   "id": "1f29c953",
   "metadata": {},
   "outputs": [
    {
     "data": {
      "text/plain": [
       "112"
      ]
     },
     "execution_count": 11,
     "metadata": {},
     "output_type": "execute_result"
    }
   ],
   "source": [
    "train['stock_id'].nunique()"
   ]
  },
  {
   "cell_type": "code",
   "execution_count": 12,
   "id": "f885f790",
   "metadata": {},
   "outputs": [
    {
     "data": {
      "text/plain": [
       "3830"
      ]
     },
     "execution_count": 12,
     "metadata": {},
     "output_type": "execute_result"
    }
   ],
   "source": [
    "train['time_id'].nunique()"
   ]
  },
  {
   "cell_type": "markdown",
   "id": "plastic-tuesday",
   "metadata": {
    "papermill": {
     "duration": 0.036105,
     "end_time": "2021-07-01T09:53:09.235503",
     "exception": false,
     "start_time": "2021-07-01T09:53:09.199398",
     "status": "completed"
    },
    "tags": []
   },
   "source": [
    "To compute the log return, we can simply take **the logarithm of the ratio** between two consecutive **WAP**. The first row will have an empty return as the previous book update is unknown, therefore the empty return data point will be dropped."
   ]
  },
  {
   "cell_type": "code",
   "execution_count": 13,
   "id": "floral-cooper",
   "metadata": {
    "execution": {
     "iopub.execute_input": "2021-07-01T09:53:09.314198Z",
     "iopub.status.busy": "2021-07-01T09:53:09.313309Z",
     "iopub.status.idle": "2021-07-01T09:53:09.315846Z",
     "shell.execute_reply": "2021-07-01T09:53:09.316410Z",
     "shell.execute_reply.started": "2021-06-25T12:19:46.465304Z"
    },
    "papermill": {
     "duration": 0.043895,
     "end_time": "2021-07-01T09:53:09.316657",
     "exception": false,
     "start_time": "2021-07-01T09:53:09.272762",
     "status": "completed"
    },
    "tags": []
   },
   "outputs": [],
   "source": [
    "def log_return(list_stock_prices):\n",
    "    return np.log(list_stock_prices).diff()"
   ]
  },
  {
   "cell_type": "code",
   "execution_count": 14,
   "id": "infrared-engineer",
   "metadata": {
    "execution": {
     "iopub.execute_input": "2021-07-01T09:53:09.391647Z",
     "iopub.status.busy": "2021-07-01T09:53:09.390957Z",
     "iopub.status.idle": "2021-07-01T09:53:09.402954Z",
     "shell.execute_reply": "2021-07-01T09:53:09.402424Z",
     "shell.execute_reply.started": "2021-06-25T12:19:47.146987Z"
    },
    "papermill": {
     "duration": 0.05067,
     "end_time": "2021-07-01T09:53:09.403118",
     "exception": false,
     "start_time": "2021-07-01T09:53:09.352448",
     "status": "completed"
    },
    "tags": []
   },
   "outputs": [],
   "source": [
    "book_example.loc[:,'log_return'] = log_return(book_example['wap'])\n",
    "book_example = book_example[~book_example['log_return'].isnull()]"
   ]
  },
  {
   "cell_type": "markdown",
   "id": "criminal-opposition",
   "metadata": {
    "execution": {
     "iopub.execute_input": "2021-06-09T15:01:53.679605Z",
     "iopub.status.busy": "2021-06-09T15:01:53.679074Z",
     "iopub.status.idle": "2021-06-09T15:01:53.686279Z",
     "shell.execute_reply": "2021-06-09T15:01:53.684738Z",
     "shell.execute_reply.started": "2021-06-09T15:01:53.67957Z"
    },
    "papermill": {
     "duration": 0.035845,
     "end_time": "2021-07-01T09:53:09.474602",
     "exception": false,
     "start_time": "2021-07-01T09:53:09.438757",
     "status": "completed"
    },
    "tags": []
   },
   "source": [
    "**Let's plot the tick-to-tick return of this instrument over this time bucket**"
   ]
  },
  {
   "cell_type": "code",
   "execution_count": 15,
   "id": "02524d54",
   "metadata": {},
   "outputs": [
    {
     "data": {
      "image/png": "[encoded data removed]",
      "text/plain": [
       "<Figure size 640x480 with 1 Axes>"
      ]
     },
     "metadata": {},
     "output_type": "display_data"
    }
   ],
   "source": [
    "plt.plot(book_example[\"seconds_in_bucket\"],book_example['log_return'])\n",
    "plt.grid()\n",
    "plt.savefig(\"return.png\")"
   ]
  },
  {
   "cell_type": "code",
   "execution_count": 16,
   "id": "inappropriate-limit",
   "metadata": {
    "execution": {
     "iopub.execute_input": "2021-07-01T09:53:09.574612Z",
     "iopub.status.busy": "2021-07-01T09:53:09.563007Z",
     "iopub.status.idle": "2021-07-01T09:53:09.619417Z",
     "shell.execute_reply": "2021-07-01T09:53:09.618704Z",
     "shell.execute_reply.started": "2021-06-22T17:49:48.840723Z"
    },
    "papermill": {
     "duration": 0.109199,
     "end_time": "2021-07-01T09:53:09.619565",
     "exception": false,
     "start_time": "2021-07-01T09:53:09.510366",
     "status": "completed"
    },
    "tags": []
   },
   "outputs": [
    {
     "data": {
      "application/vnd.plotly.v1+json": {
       "config": {
        "plotlyServerURL": "https://plot.ly"
       },
       "data": [
        {
         "hovertemplate": "seconds_in_bucket=%{x}<br>log_return=%{y}<extra></extra>",
         "legendgroup": "",
         "line": {
          "color": "#636efa",
          "dash": "solid"
         },
         "marker": {
          "symbol": "circle"
         },
         "mode": "lines",
         "name": "",
         "orientation": "v",
         "showlegend": false,
         "type": "scatter",
         "x": {
          "bdata": "AQAFAAYABwALAAwADgAPABAAEQASABMAFQAYABkALAAuAC8AMAAyADMANwA5ADsAPAA/AEQARQBOAE8AUQBTAFUAWgBcAF0AXgBhAGIAZQBnAGkAagBuAG8AcQByAHMAdgB3AHoAewB8AH4AfwCAAIEAhACFAIYAigCMAI0AjwCQAJEAkwCUAJUAlgCXAJgAmQCaAJ4AnwCgAKEApAClAKYApwCoAKkAqwCtAK4ArwCxALIAtQC2ALcAuQC6ALsAvAC9AL4AvwDAAMEAwgDDAMQAxQDGAMcAyADJAMsAzADNAM4AzwDRANMA1ADVANcA2ADaANsA3QDeAN8A4ADhAOIA4wDkAOYA5wDoAOkA6gDrAO0A7wD4AP0A/gD/AAABAQECAQMBBAEHAQgBCQENARYBGgEbAR8BIAEiASUBJwEoASoBLQEvATABMQEyATQBNQE2ATcBOAE5AToBPAFCAUMBSQFLAVABUgFUAVkBXAFeAWEBZAFrAW0BbgFvAXYBegF8AX4BgQGCAYQBhQGHAYoBjgGPAZABkQGSAZMBlAGWAZoBmwGgAakBqgGrAawBrgGvAbEBsgGzAbUBtgG4AbkBugG7AbwBvQG+Ab8BwAHBAdAB0QHSAdMB1gHXAdgB2QHaAdsB3QHeAd8B6AHpAe8B8AHyAfcB/wEBAgICAwIEAgYCBwIIAgkCCgILAgwCDQIOAhACEwIUAhYCFwIaAhsCHAIdAh4CIQIiAiQCJQImAicCKAIrAi4CMQIyAjMCOwI8Aj0CPgI/AkMCRQJIAkkCSgJLAkwCUQI=",
          "dtype": "i2"
         },
         "xaxis": "x",
         "y": {
          "bdata": "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",
          "dtype": "f8"
         },
         "yaxis": "y"
        }
       ],
       "layout": {
        "legend": {
         "tracegroupgap": 0
        },
        "margin": {
         "t": 60
        },
        "template": {
         "data": {
          "bar": [
           {
            "error_x": {
             "color": "#2a3f5f"
            },
            "error_y": {
             "color": "#2a3f5f"
            },
            "marker": {
             "line": {
              "color": "#E5ECF6",
              "width": 0.5
             },
             "pattern": {
              "fillmode": "overlay",
              "size": 10,
              "solidity": 0.2
             }
            },
            "type": "bar"
           }
          ],
          "barpolar": [
           {
            "marker": {
             "line": {
              "color": "#E5ECF6",
              "width": 0.5
             },
             "pattern": {
              "fillmode": "overlay",
              "size": 10,
              "solidity": 0.2
             }
            },
            "type": "barpolar"
           }
          ],
          "carpet": [
           {
            "aaxis": {
             "endlinecolor": "#2a3f5f",
             "gridcolor": "white",
             "linecolor": "white",
             "minorgridcolor": "white",
             "startlinecolor": "#2a3f5f"
            },
            "baxis": {
             "endlinecolor": "#2a3f5f",
             "gridcolor": "white",
             "linecolor": "white",
             "minorgridcolor": "white",
             "startlinecolor": "#2a3f5f"
            },
            "type": "carpet"
           }
          ],
          "choropleth": [
           {
            "colorbar": {
             "outlinewidth": 0,
             "ticks": ""
            },
            "type": "choropleth"
           }
          ],
          "contour": [
           {
            "colorbar": {
             "outlinewidth": 0,
             "ticks": ""
            },
            "colorscale": [
             [
              0,
              "#0d0887"
             ],
             [
              0.1111111111111111,
              "#46039f"
             ],
             [
              0.2222222222222222,
              "#7201a8"
             ],
             [
              0.3333333333333333,
              "#9c179e"
             ],
             [
              0.4444444444444444,
              "#bd3786"
             ],
             [
              0.5555555555555556,
              "#d8576b"
             ],
             [
              0.6666666666666666,
              "#ed7953"
             ],
             [
              0.7777777777777778,
              "#fb9f3a"
             ],
             [
              0.8888888888888888,
              "#fdca26"
             ],
             [
              1,
              "#f0f921"
             ]
            ],
            "type": "contour"
           }
          ],
          "contourcarpet": [
           {
            "colorbar": {
             "outlinewidth": 0,
             "ticks": ""
            },
            "type": "contourcarpet"
           }
          ],
          "heatmap": [
           {
            "colorbar": {
             "outlinewidth": 0,
             "ticks": ""
            },
            "colorscale": [
             [
              0,
              "#0d0887"
             ],
             [
              0.1111111111111111,
              "#46039f"
             ],
             [
              0.2222222222222222,
              "#7201a8"
             ],
             [
              0.3333333333333333,
              "#9c179e"
             ],
             [
              0.4444444444444444,
              "#bd3786"
             ],
             [
              0.5555555555555556,
              "#d8576b"
             ],
             [
              0.6666666666666666,
              "#ed7953"
             ],
             [
              0.7777777777777778,
              "#fb9f3a"
             ],
             [
              0.8888888888888888,
              "#fdca26"
             ],
             [
              1,
              "#f0f921"
             ]
            ],
            "type": "heatmap"
           }
          ],
          "histogram": [
           {
            "marker": {
             "pattern": {
              "fillmode": "overlay",
              "size": 10,
              "solidity": 0.2
             }
            },
            "type": "histogram"
           }
          ],
          "histogram2d": [
           {
            "colorbar": {
             "outlinewidth": 0,
             "ticks": ""
            },
            "colorscale": [
             [
              0,
              "#0d0887"
             ],
             [
              0.1111111111111111,
              "#46039f"
             ],
             [
              0.2222222222222222,
              "#7201a8"
             ],
             [
              0.3333333333333333,
              "#9c179e"
             ],
             [
              0.4444444444444444,
              "#bd3786"
             ],
             [
              0.5555555555555556,
              "#d8576b"
             ],
             [
              0.6666666666666666,
              "#ed7953"
             ],
             [
              0.7777777777777778,
              "#fb9f3a"
             ],
             [
              0.8888888888888888,
              "#fdca26"
             ],
             [
              1,
              "#f0f921"
             ]
            ],
            "type": "histogram2d"
           }
          ],
          "histogram2dcontour": [
           {
            "colorbar": {
             "outlinewidth": 0,
             "ticks": ""
            },
            "colorscale": [
             [
              0,
              "#0d0887"
             ],
             [
              0.1111111111111111,
              "#46039f"
             ],
             [
              0.2222222222222222,
              "#7201a8"
             ],
             [
              0.3333333333333333,
              "#9c179e"
             ],
             [
              0.4444444444444444,
              "#bd3786"
             ],
             [
              0.5555555555555556,
              "#d8576b"
             ],
             [
              0.6666666666666666,
              "#ed7953"
             ],
             [
              0.7777777777777778,
              "#fb9f3a"
             ],
             [
              0.8888888888888888,
              "#fdca26"
             ],
             [
              1,
              "#f0f921"
             ]
            ],
            "type": "histogram2dcontour"
           }
          ],
          "mesh3d": [
           {
            "colorbar": {
             "outlinewidth": 0,
             "ticks": ""
            },
            "type": "mesh3d"
           }
          ],
          "parcoords": [
           {
            "line": {
             "colorbar": {
              "outlinewidth": 0,
              "ticks": ""
             }
            },
            "type": "parcoords"
           }
          ],
          "pie": [
           {
            "automargin": true,
            "type": "pie"
           }
          ],
          "scatter": [
           {
            "fillpattern": {
             "fillmode": "overlay",
             "size": 10,
             "solidity": 0.2
            },
            "type": "scatter"
           }
          ],
          "scatter3d": [
           {
            "line": {
             "colorbar": {
              "outlinewidth": 0,
              "ticks": ""
             }
            },
            "marker": {
             "colorbar": {
              "outlinewidth": 0,
              "ticks": ""
             }
            },
            "type": "scatter3d"
           }
          ],
          "scattercarpet": [
           {
            "marker": {
             "colorbar": {
              "outlinewidth": 0,
              "ticks": ""
             }
            },
            "type": "scattercarpet"
           }
          ],
          "scattergeo": [
           {
            "marker": {
             "colorbar": {
              "outlinewidth": 0,
              "ticks": ""
             }
            },
            "type": "scattergeo"
           }
          ],
          "scattergl": [
           {
            "marker": {
             "colorbar": {
              "outlinewidth": 0,
              "ticks": ""
             }
            },
            "type": "scattergl"
           }
          ],
          "scattermap": [
           {
            "marker": {
             "colorbar": {
              "outlinewidth": 0,
              "ticks": ""
             }
            },
            "type": "scattermap"
           }
          ],
          "scattermapbox": [
           {
            "marker": {
             "colorbar": {
              "outlinewidth": 0,
              "ticks": ""
             }
            },
            "type": "scattermapbox"
           }
          ],
          "scatterpolar": [
           {
            "marker": {
             "colorbar": {
              "outlinewidth": 0,
              "ticks": ""
             }
            },
            "type": "scatterpolar"
           }
          ],
          "scatterpolargl": [
           {
            "marker": {
             "colorbar": {
              "outlinewidth": 0,
              "ticks": ""
             }
            },
            "type": "scatterpolargl"
           }
          ],
          "scatterternary": [
           {
            "marker": {
             "colorbar": {
              "outlinewidth": 0,
              "ticks": ""
             }
            },
            "type": "scatterternary"
           }
          ],
          "surface": [
           {
            "colorbar": {
             "outlinewidth": 0,
             "ticks": ""
            },
            "colorscale": [
             [
              0,
              "#0d0887"
             ],
             [
              0.1111111111111111,
              "#46039f"
             ],
             [
              0.2222222222222222,
              "#7201a8"
             ],
             [
              0.3333333333333333,
              "#9c179e"
             ],
             [
              0.4444444444444444,
              "#bd3786"
             ],
             [
              0.5555555555555556,
              "#d8576b"
             ],
             [
              0.6666666666666666,
              "#ed7953"
             ],
             [
              0.7777777777777778,
              "#fb9f3a"
             ],
             [
              0.8888888888888888,
              "#fdca26"
             ],
             [
              1,
              "#f0f921"
             ]
            ],
            "type": "surface"
           }
          ],
          "table": [
           {
            "cells": {
             "fill": {
              "color": "#EBF0F8"
             },
             "line": {
              "color": "white"
             }
            },
            "header": {
             "fill": {
              "color": "#C8D4E3"
             },
             "line": {
              "color": "white"
             }
            },
            "type": "table"
           }
          ]
         },
         "layout": {
          "annotationdefaults": {
           "arrowcolor": "#2a3f5f",
           "arrowhead": 0,
           "arrowwidth": 1
          },
          "autotypenumbers": "strict",
          "coloraxis": {
           "colorbar": {
            "outlinewidth": 0,
            "ticks": ""
           }
          },
          "colorscale": {
           "diverging": [
            [
             0,
             "#8e0152"
            ],
            [
             0.1,
             "#c51b7d"
            ],
            [
             0.2,
             "#de77ae"
            ],
            [
             0.3,
             "#f1b6da"
            ],
            [
             0.4,
             "#fde0ef"
            ],
            [
             0.5,
             "#f7f7f7"
            ],
            [
             0.6,
             "#e6f5d0"
            ],
            [
             0.7,
             "#b8e186"
            ],
            [
             0.8,
             "#7fbc41"
            ],
            [
             0.9,
             "#4d9221"
            ],
            [
             1,
             "#276419"
            ]
           ],
           "sequential": [
            [
             0,
             "#0d0887"
            ],
            [
             0.1111111111111111,
             "#46039f"
            ],
            [
             0.2222222222222222,
             "#7201a8"
            ],
            [
             0.3333333333333333,
             "#9c179e"
            ],
            [
             0.4444444444444444,
             "#bd3786"
            ],
            [
             0.5555555555555556,
             "#d8576b"
            ],
            [
             0.6666666666666666,
             "#ed7953"
            ],
            [
             0.7777777777777778,
             "#fb9f3a"
            ],
            [
             0.8888888888888888,
             "#fdca26"
            ],
            [
             1,
             "#f0f921"
            ]
           ],
           "sequentialminus": [
            [
             0,
             "#0d0887"
            ],
            [
             0.1111111111111111,
             "#46039f"
            ],
            [
             0.2222222222222222,
             "#7201a8"
            ],
            [
             0.3333333333333333,
             "#9c179e"
            ],
            [
             0.4444444444444444,
             "#bd3786"
            ],
            [
             0.5555555555555556,
             "#d8576b"
            ],
            [
             0.6666666666666666,
             "#ed7953"
            ],
            [
             0.7777777777777778,
             "#fb9f3a"
            ],
            [
             0.8888888888888888,
             "#fdca26"
            ],
            [
             1,
             "#f0f921"
            ]
           ]
          },
          "colorway": [
           "#636efa",
           "#EF553B",
           "#00cc96",
           "#ab63fa",
           "#FFA15A",
           "#19d3f3",
           "#FF6692",
           "#B6E880",
           "#FF97FF",
           "#FECB52"
          ],
          "font": {
           "color": "#2a3f5f"
          },
          "geo": {
           "bgcolor": "white",
           "lakecolor": "white",
           "landcolor": "#E5ECF6",
           "showlakes": true,
           "showland": true,
           "subunitcolor": "white"
          },
          "hoverlabel": {
           "align": "left"
          },
          "hovermode": "closest",
          "mapbox": {
           "style": "light"
          },
          "paper_bgcolor": "white",
          "plot_bgcolor": "#E5ECF6",
          "polar": {
           "angularaxis": {
            "gridcolor": "white",
            "linecolor": "white",
            "ticks": ""
           },
           "bgcolor": "#E5ECF6",
           "radialaxis": {
            "gridcolor": "white",
            "linecolor": "white",
            "ticks": ""
           }
          },
          "scene": {
           "xaxis": {
            "backgroundcolor": "#E5ECF6",
            "gridcolor": "white",
            "gridwidth": 2,
            "linecolor": "white",
            "showbackground": true,
            "ticks": "",
            "zerolinecolor": "white"
           },
           "yaxis": {
            "backgroundcolor": "#E5ECF6",
            "gridcolor": "white",
            "gridwidth": 2,
            "linecolor": "white",
            "showbackground": true,
            "ticks": "",
            "zerolinecolor": "white"
           },
           "zaxis": {
            "backgroundcolor": "#E5ECF6",
            "gridcolor": "white",
            "gridwidth": 2,
            "linecolor": "white",
            "showbackground": true,
            "ticks": "",
            "zerolinecolor": "white"
           }
          },
          "shapedefaults": {
           "line": {
            "color": "#2a3f5f"
           }
          },
          "ternary": {
           "aaxis": {
            "gridcolor": "white",
            "linecolor": "white",
            "ticks": ""
           },
           "baxis": {
            "gridcolor": "white",
            "linecolor": "white",
            "ticks": ""
           },
           "bgcolor": "#E5ECF6",
           "caxis": {
            "gridcolor": "white",
            "linecolor": "white",
            "ticks": ""
           }
          },
          "title": {
           "x": 0.05
          },
          "xaxis": {
           "automargin": true,
           "gridcolor": "white",
           "linecolor": "white",
           "ticks": "",
           "title": {
            "standoff": 15
           },
           "zerolinecolor": "white",
           "zerolinewidth": 2
          },
          "yaxis": {
           "automargin": true,
           "gridcolor": "white",
           "linecolor": "white",
           "ticks": "",
           "title": {
            "standoff": 15
           },
           "zerolinecolor": "white",
           "zerolinewidth": 2
          }
         }
        },
        "xaxis": {
         "anchor": "y",
         "domain": [
          0,
          1
         ],
         "title": {
          "text": "seconds_in_bucket"
         }
        },
        "yaxis": {
         "anchor": "x",
         "domain": [
          0,
          1
         ],
         "title": {
          "text": "log_return"
         }
        }
       }
      }
     },
     "metadata": {},
     "output_type": "display_data"
    }
   ],
   "source": [
    "fig = px.line(book_example, x=\"seconds_in_bucket\", y=\"log_return\")\n",
    "fig.show()\n",
    "fig.write_image(\"return.png\")"
   ]
  },
  {
   "cell_type": "markdown",
   "id": "vital-fountain",
   "metadata": {
    "papermill": {
     "duration": 0.036272,
     "end_time": "2021-07-01T09:53:09.692447",
     "exception": false,
     "start_time": "2021-07-01T09:53:09.656175",
     "status": "completed"
    },
    "tags": []
   },
   "source": [
    "The realized vol of stock 0 in this feature bucket, will be:"
   ]
  },
  {
   "cell_type": "code",
   "execution_count": 16,
   "id": "cubic-pepper",
   "metadata": {
    "execution": {
     "iopub.execute_input": "2021-07-01T09:53:09.771860Z",
     "iopub.status.busy": "2021-07-01T09:53:09.771044Z",
     "iopub.status.idle": "2021-07-01T09:53:09.774954Z",
     "shell.execute_reply": "2021-07-01T09:53:09.774136Z",
     "shell.execute_reply.started": "2021-06-25T12:19:49.311443Z"
    },
    "papermill": {
     "duration": 0.04627,
     "end_time": "2021-07-01T09:53:09.775170",
     "exception": false,
     "start_time": "2021-07-01T09:53:09.728900",
     "status": "completed"
    },
    "tags": []
   },
   "outputs": [
    {
     "name": "stdout",
     "output_type": "stream",
     "text": [
      "Realized volatility for stock_id 0 on time_id 5 is 0.004499342176374144\n"
     ]
    }
   ],
   "source": [
    "def realized_volatility(series_log_return):\n",
    "    return np.sqrt(np.sum(series_log_return**2))\n",
    "realized_vol = realized_volatility(book_example['log_return'])\n",
    "print(f'Realized volatility for stock_id 0 on time_id 5 is {realized_vol}')"
   ]
  },
  {
   "cell_type": "code",
   "execution_count": 20,
   "id": "85918c44",
   "metadata": {},
   "outputs": [
    {
     "data": {
      "text/html": [
       "<div>\n",
       "<style scoped>\n",
       "    .dataframe tbody tr th:only-of-type {\n",
       "        vertical-align: middle;\n",
       "    }\n",
       "\n",
       "    .dataframe tbody tr th {\n",
       "        vertical-align: top;\n",
       "    }\n",
       "\n",
       "    .dataframe thead th {\n",
       "        text-align: right;\n",
       "    }\n",
       "</style>\n",
       "<table border=\"1\" class=\"dataframe\">\n",
       "  <thead>\n",
       "    <tr style=\"text-align: right;\">\n",
       "      <th></th>\n",
       "      <th>stock_id</th>\n",
       "      <th>time_id</th>\n",
       "      <th>target</th>\n",
       "    </tr>\n",
       "  </thead>\n",
       "  <tbody>\n",
       "    <tr>\n",
       "      <th>58607</th>\n",
       "      <td>16</td>\n",
       "      <td>9787</td>\n",
       "      <td>0.005983</td>\n",
       "    </tr>\n",
       "    <tr>\n",
       "      <th>356864</th>\n",
       "      <td>105</td>\n",
       "      <td>5773</td>\n",
       "      <td>0.002415</td>\n",
       "    </tr>\n",
       "    <tr>\n",
       "      <th>197966</th>\n",
       "      <td>58</td>\n",
       "      <td>22076</td>\n",
       "      <td>0.002863</td>\n",
       "    </tr>\n",
       "    <tr>\n",
       "      <th>261134</th>\n",
       "      <td>77</td>\n",
       "      <td>5817</td>\n",
       "      <td>0.005279</td>\n",
       "    </tr>\n",
       "    <tr>\n",
       "      <th>193238</th>\n",
       "      <td>56</td>\n",
       "      <td>14572</td>\n",
       "      <td>0.002328</td>\n",
       "    </tr>\n",
       "  </tbody>\n",
       "</table>\n",
       "</div>"
      ],
      "text/plain": [
       "        stock_id  time_id    target\n",
       "58607         16     9787  0.005983\n",
       "356864       105     5773  0.002415\n",
       "197966        58    22076  0.002863\n",
       "261134        77     5817  0.005279\n",
       "193238        56    14572  0.002328"
      ]
     },
     "execution_count": 20,
     "metadata": {},
     "output_type": "execute_result"
    }
   ],
   "source": [
    "train.sample(n=5, random_state=42)"
   ]
  },
  {
   "cell_type": "markdown",
   "id": "sound-military",
   "metadata": {
    "papermill": {
     "duration": 0.036892,
     "end_time": "2021-07-01T09:53:09.854364",
     "exception": false,
     "start_time": "2021-07-01T09:53:09.817472",
     "status": "completed"
    },
    "tags": []
   },
   "source": [
    "# Naive prediction: using past realized volatility as target"
   ]
  },
  {
   "cell_type": "markdown",
   "id": "engaging-robinson",
   "metadata": {
    "papermill": {
     "duration": 0.036274,
     "end_time": "2021-07-01T09:53:09.927655",
     "exception": false,
     "start_time": "2021-07-01T09:53:09.891381",
     "status": "completed"
    },
    "tags": []
   },
   "source": [
    "A commonly known fact about volatility is that it tends to be autocorrelated. We can use this property to implement a naive model that just \"predicts\" realized volatility by using whatever the realized volatility was in the initial 10 minutes.\n",
    "\n",
    "Let's calculate the past realized volatility across the training set to see how predictive a single naive signal can be."
   ]
  },
  {
   "cell_type": "code",
   "execution_count": 17,
   "id": "assured-surgeon",
   "metadata": {
    "execution": {
     "iopub.execute_input": "2021-07-01T09:53:10.006887Z",
     "iopub.status.busy": "2021-07-01T09:53:10.006103Z",
     "iopub.status.idle": "2021-07-01T09:53:10.805140Z",
     "shell.execute_reply": "2021-07-01T09:53:10.804444Z",
     "shell.execute_reply.started": "2021-06-22T17:58:30.665865Z"
    },
    "papermill": {
     "duration": 0.840368,
     "end_time": "2021-07-01T09:53:10.805328",
     "exception": false,
     "start_time": "2021-07-01T09:53:09.964960",
     "status": "completed"
    },
    "tags": []
   },
   "outputs": [],
   "source": [
    "import os\n",
    "from sklearn.metrics import r2_score\n",
    "import glob\n",
    "list_order_book_file_train = glob.glob('optiver-realized-volatility-prediction/book_train.parquet/*')"
   ]
  },
  {
   "cell_type": "code",
   "execution_count": 18,
   "id": "b29d2cd8",
   "metadata": {},
   "outputs": [
    {
     "data": {
      "text/plain": [
       "['optiver-realized-volatility-prediction/book_train.parquet/stock_id=17',\n",
       " 'optiver-realized-volatility-prediction/book_train.parquet/stock_id=28',\n",
       " 'optiver-realized-volatility-prediction/book_train.parquet/stock_id=10',\n",
       " 'optiver-realized-volatility-prediction/book_train.parquet/stock_id=26',\n",
       " 'optiver-realized-volatility-prediction/book_train.parquet/stock_id=19',\n",
       " 'optiver-realized-volatility-prediction/book_train.parquet/stock_id=21',\n",
       " 'optiver-realized-volatility-prediction/book_train.parquet/stock_id=75',\n",
       " 'optiver-realized-volatility-prediction/book_train.parquet/stock_id=81',\n",
       " 'optiver-realized-volatility-prediction/book_train.parquet/stock_id=86',\n",
       " 'optiver-realized-volatility-prediction/book_train.parquet/stock_id=72',\n",
       " 'optiver-realized-volatility-prediction/book_train.parquet/stock_id=44',\n",
       " 'optiver-realized-volatility-prediction/book_train.parquet/stock_id=88',\n",
       " 'optiver-realized-volatility-prediction/book_train.parquet/stock_id=43',\n",
       " 'optiver-realized-volatility-prediction/book_train.parquet/stock_id=20',\n",
       " 'optiver-realized-volatility-prediction/book_train.parquet/stock_id=27',\n",
       " 'optiver-realized-volatility-prediction/book_train.parquet/stock_id=18',\n",
       " 'optiver-realized-volatility-prediction/book_train.parquet/stock_id=11',\n",
       " 'optiver-realized-volatility-prediction/book_train.parquet/stock_id=16',\n",
       " 'optiver-realized-volatility-prediction/book_train.parquet/stock_id=29',\n",
       " 'optiver-realized-volatility-prediction/book_train.parquet/stock_id=89',\n",
       " 'optiver-realized-volatility-prediction/book_train.parquet/stock_id=42',\n",
       " 'optiver-realized-volatility-prediction/book_train.parquet/stock_id=73',\n",
       " 'optiver-realized-volatility-prediction/book_train.parquet/stock_id=87',\n",
       " 'optiver-realized-volatility-prediction/book_train.parquet/stock_id=80',\n",
       " 'optiver-realized-volatility-prediction/book_train.parquet/stock_id=74',\n",
       " 'optiver-realized-volatility-prediction/book_train.parquet/stock_id=103',\n",
       " 'optiver-realized-volatility-prediction/book_train.parquet/stock_id=104',\n",
       " 'optiver-realized-volatility-prediction/book_train.parquet/stock_id=105',\n",
       " 'optiver-realized-volatility-prediction/book_train.parquet/stock_id=102',\n",
       " 'optiver-realized-volatility-prediction/book_train.parquet/stock_id=120',\n",
       " 'optiver-realized-volatility-prediction/book_train.parquet/stock_id=118',\n",
       " 'optiver-realized-volatility-prediction/book_train.parquet/stock_id=111',\n",
       " 'optiver-realized-volatility-prediction/book_train.parquet/stock_id=116',\n",
       " 'optiver-realized-volatility-prediction/book_train.parquet/stock_id=110',\n",
       " 'optiver-realized-volatility-prediction/book_train.parquet/stock_id=119',\n",
       " 'optiver-realized-volatility-prediction/book_train.parquet/stock_id=126',\n",
       " 'optiver-realized-volatility-prediction/book_train.parquet/stock_id=7',\n",
       " 'optiver-realized-volatility-prediction/book_train.parquet/stock_id=56',\n",
       " 'optiver-realized-volatility-prediction/book_train.parquet/stock_id=69',\n",
       " 'optiver-realized-volatility-prediction/book_train.parquet/stock_id=51',\n",
       " 'optiver-realized-volatility-prediction/book_train.parquet/stock_id=0',\n",
       " 'optiver-realized-volatility-prediction/book_train.parquet/stock_id=67',\n",
       " 'optiver-realized-volatility-prediction/book_train.parquet/stock_id=93',\n",
       " 'optiver-realized-volatility-prediction/book_train.parquet/stock_id=58',\n",
       " 'optiver-realized-volatility-prediction/book_train.parquet/stock_id=9',\n",
       " 'optiver-realized-volatility-prediction/book_train.parquet/stock_id=94',\n",
       " 'optiver-realized-volatility-prediction/book_train.parquet/stock_id=60',\n",
       " 'optiver-realized-volatility-prediction/book_train.parquet/stock_id=34',\n",
       " 'optiver-realized-volatility-prediction/book_train.parquet/stock_id=33',\n",
       " 'optiver-realized-volatility-prediction/book_train.parquet/stock_id=61',\n",
       " 'optiver-realized-volatility-prediction/book_train.parquet/stock_id=95',\n",
       " 'optiver-realized-volatility-prediction/book_train.parquet/stock_id=66',\n",
       " 'optiver-realized-volatility-prediction/book_train.parquet/stock_id=8',\n",
       " 'optiver-realized-volatility-prediction/book_train.parquet/stock_id=59',\n",
       " 'optiver-realized-volatility-prediction/book_train.parquet/stock_id=1',\n",
       " 'optiver-realized-volatility-prediction/book_train.parquet/stock_id=50',\n",
       " 'optiver-realized-volatility-prediction/book_train.parquet/stock_id=6',\n",
       " 'optiver-realized-volatility-prediction/book_train.parquet/stock_id=68',\n",
       " 'optiver-realized-volatility-prediction/book_train.parquet/stock_id=32',\n",
       " 'optiver-realized-volatility-prediction/book_train.parquet/stock_id=35',\n",
       " 'optiver-realized-volatility-prediction/book_train.parquet/stock_id=85',\n",
       " 'optiver-realized-volatility-prediction/book_train.parquet/stock_id=76',\n",
       " 'optiver-realized-volatility-prediction/book_train.parquet/stock_id=82',\n",
       " 'optiver-realized-volatility-prediction/book_train.parquet/stock_id=40',\n",
       " 'optiver-realized-volatility-prediction/book_train.parquet/stock_id=78',\n",
       " 'optiver-realized-volatility-prediction/book_train.parquet/stock_id=47',\n",
       " 'optiver-realized-volatility-prediction/book_train.parquet/stock_id=13',\n",
       " 'optiver-realized-volatility-prediction/book_train.parquet/stock_id=14',\n",
       " 'optiver-realized-volatility-prediction/book_train.parquet/stock_id=22',\n",
       " 'optiver-realized-volatility-prediction/book_train.parquet/stock_id=46',\n",
       " 'optiver-realized-volatility-prediction/book_train.parquet/stock_id=41',\n",
       " 'optiver-realized-volatility-prediction/book_train.parquet/stock_id=48',\n",
       " 'optiver-realized-volatility-prediction/book_train.parquet/stock_id=83',\n",
       " 'optiver-realized-volatility-prediction/book_train.parquet/stock_id=77',\n",
       " 'optiver-realized-volatility-prediction/book_train.parquet/stock_id=70',\n",
       " 'optiver-realized-volatility-prediction/book_train.parquet/stock_id=84',\n",
       " 'optiver-realized-volatility-prediction/book_train.parquet/stock_id=23',\n",
       " 'optiver-realized-volatility-prediction/book_train.parquet/stock_id=15',\n",
       " 'optiver-realized-volatility-prediction/book_train.parquet/stock_id=107',\n",
       " 'optiver-realized-volatility-prediction/book_train.parquet/stock_id=100',\n",
       " 'optiver-realized-volatility-prediction/book_train.parquet/stock_id=109',\n",
       " 'optiver-realized-volatility-prediction/book_train.parquet/stock_id=108',\n",
       " 'optiver-realized-volatility-prediction/book_train.parquet/stock_id=101',\n",
       " 'optiver-realized-volatility-prediction/book_train.parquet/stock_id=124',\n",
       " 'optiver-realized-volatility-prediction/book_train.parquet/stock_id=123',\n",
       " 'optiver-realized-volatility-prediction/book_train.parquet/stock_id=115',\n",
       " 'optiver-realized-volatility-prediction/book_train.parquet/stock_id=112',\n",
       " 'optiver-realized-volatility-prediction/book_train.parquet/stock_id=113',\n",
       " 'optiver-realized-volatility-prediction/book_train.parquet/stock_id=114',\n",
       " 'optiver-realized-volatility-prediction/book_train.parquet/stock_id=122',\n",
       " 'optiver-realized-volatility-prediction/book_train.parquet/stock_id=125',\n",
       " 'optiver-realized-volatility-prediction/book_train.parquet/stock_id=30',\n",
       " 'optiver-realized-volatility-prediction/book_train.parquet/stock_id=37',\n",
       " 'optiver-realized-volatility-prediction/book_train.parquet/stock_id=39',\n",
       " 'optiver-realized-volatility-prediction/book_train.parquet/stock_id=52',\n",
       " 'optiver-realized-volatility-prediction/book_train.parquet/stock_id=3',\n",
       " 'optiver-realized-volatility-prediction/book_train.parquet/stock_id=99',\n",
       " 'optiver-realized-volatility-prediction/book_train.parquet/stock_id=4',\n",
       " 'optiver-realized-volatility-prediction/book_train.parquet/stock_id=55',\n",
       " 'optiver-realized-volatility-prediction/book_train.parquet/stock_id=97',\n",
       " 'optiver-realized-volatility-prediction/book_train.parquet/stock_id=63',\n",
       " 'optiver-realized-volatility-prediction/book_train.parquet/stock_id=64',\n",
       " 'optiver-realized-volatility-prediction/book_train.parquet/stock_id=90',\n",
       " 'optiver-realized-volatility-prediction/book_train.parquet/stock_id=38',\n",
       " 'optiver-realized-volatility-prediction/book_train.parquet/stock_id=36',\n",
       " 'optiver-realized-volatility-prediction/book_train.parquet/stock_id=31',\n",
       " 'optiver-realized-volatility-prediction/book_train.parquet/stock_id=62',\n",
       " 'optiver-realized-volatility-prediction/book_train.parquet/stock_id=96',\n",
       " 'optiver-realized-volatility-prediction/book_train.parquet/stock_id=5',\n",
       " 'optiver-realized-volatility-prediction/book_train.parquet/stock_id=2',\n",
       " 'optiver-realized-volatility-prediction/book_train.parquet/stock_id=53',\n",
       " 'optiver-realized-volatility-prediction/book_train.parquet/stock_id=98']"
      ]
     },
     "execution_count": 18,
     "metadata": {},
     "output_type": "execute_result"
    }
   ],
   "source": [
    "list_order_book_file_train"
   ]
  },
  {
   "cell_type": "markdown",
   "id": "civil-travel",
   "metadata": {
    "papermill": {
     "duration": 0.036286,
     "end_time": "2021-07-01T09:53:10.880073",
     "exception": false,
     "start_time": "2021-07-01T09:53:10.843787",
     "status": "completed"
    },
    "tags": []
   },
   "source": [
    "As the data is partitioned by stock_id in this competition to allow Kagglers better manage the memory, we try to calculcate realized volatility stock by stock and combine them into one submission file. Note that the stock id as the partition column is not present if we load the single file so we will remedy that manually. We will reuse the log return and realized volatility functions defined in the previous session."
   ]
  },
  {
   "cell_type": "code",
   "execution_count": 19,
   "id": "floral-issue",
   "metadata": {
    "execution": {
     "iopub.execute_input": "2021-07-01T09:53:10.962729Z",
     "iopub.status.busy": "2021-07-01T09:53:10.961819Z",
     "iopub.status.idle": "2021-07-01T09:53:10.964932Z",
     "shell.execute_reply": "2021-07-01T09:53:10.964265Z",
     "shell.execute_reply.started": "2021-06-22T18:31:38.919927Z"
    },
    "papermill": {
     "duration": 0.048386,
     "end_time": "2021-07-01T09:53:10.965080",
     "exception": false,
     "start_time": "2021-07-01T09:53:10.916694",
     "status": "completed"
    },
    "tags": []
   },
   "outputs": [],
   "source": [
    "def realized_volatility_per_time_id(file_path, prediction_column_name):\n",
    "    df_book_data = pd.read_parquet(file_path)\n",
    "    df_book_data['wap'] =(df_book_data['bid_price1'] * df_book_data['ask_size1']+df_book_data['ask_price1'] * df_book_data['bid_size1'])  / (\n",
    "                                      df_book_data['bid_size1']+ df_book_data[\n",
    "                                  'ask_size1'])\n",
    "    \n",
    "    df_book_data['log_return'] = df_book_data.groupby(['time_id'])['wap'].transform(log_return)\n",
    "\n",
    "    df_book_data = df_book_data[~df_book_data['log_return'].isnull()]\n",
    "\n",
    "    df_realized_vol_per_stock =  pd.DataFrame(df_book_data.groupby(['time_id'])['log_return'].agg(realized_volatility)).reset_index()\n",
    "    \n",
    "    df_realized_vol_per_stock = df_realized_vol_per_stock.rename(columns = {'log_return':prediction_column_name})\n",
    "    stock_id = file_path.split('=')[1]\n",
    "    df_realized_vol_per_stock['row_id'] = df_realized_vol_per_stock['time_id'].apply(lambda x:f'{stock_id}-{x}')\n",
    "    return df_realized_vol_per_stock[['row_id',prediction_column_name]]"
   ]
  },
  {
   "cell_type": "markdown",
   "id": "positive-builder",
   "metadata": {
    "papermill": {
     "duration": 0.037035,
     "end_time": "2021-07-01T09:53:11.038943",
     "exception": false,
     "start_time": "2021-07-01T09:53:11.001908",
     "status": "completed"
    },
    "tags": []
   },
   "source": [
    "Looping through each individual stocks, we can get the past realized volatility as prediction for each individual stocks."
   ]
  },
  {
   "cell_type": "code",
   "execution_count": 20,
   "id": "accredited-instrument",
   "metadata": {
    "execution": {
     "iopub.execute_input": "2021-07-01T09:53:11.126495Z",
     "iopub.status.busy": "2021-07-01T09:53:11.125498Z",
     "iopub.status.idle": "2021-07-01T10:00:27.839685Z",
     "shell.execute_reply": "2021-07-01T10:00:27.840285Z",
     "shell.execute_reply.started": "2021-06-22T18:01:24.770106Z"
    },
    "papermill": {
     "duration": 436.763144,
     "end_time": "2021-07-01T10:00:27.840523",
     "exception": false,
     "start_time": "2021-07-01T09:53:11.077379",
     "status": "completed"
    },
    "tags": []
   },
   "outputs": [],
   "source": [
    "def past_realized_volatility_per_stock(list_file,prediction_column_name):\n",
    "    df_past_realized = pd.DataFrame()\n",
    "    for file in list_file:\n",
    "        df_past_realized = pd.concat([df_past_realized,\n",
    "                                     realized_volatility_per_time_id(file,prediction_column_name)])\n",
    "    return df_past_realized\n",
    "\n",
    "\n",
    "df_past_realized_train = past_realized_volatility_per_stock(list_file=list_order_book_file_train,\n",
    "                                                           prediction_column_name='pred')"
   ]
  },
  {
   "cell_type": "markdown",
   "id": "figured-standard",
   "metadata": {
    "papermill": {
     "duration": 0.036845,
     "end_time": "2021-07-01T10:00:27.915044",
     "exception": false,
     "start_time": "2021-07-01T10:00:27.878199",
     "status": "completed"
    },
    "tags": []
   },
   "source": [
    "Let's join the output dataframe with train.csv to see the performance of the naive prediction on training set."
   ]
  },
  {
   "cell_type": "code",
   "execution_count": 21,
   "id": "02866134",
   "metadata": {},
   "outputs": [
    {
     "data": {
      "text/plain": [
       "(0.8382045275265115, -0.4553753353902299)"
      ]
     },
     "execution_count": 21,
     "metadata": {},
     "output_type": "execute_result"
    }
   ],
   "source": [
    "from sklearn.metrics import mean_absolute_percentage_error, r2_score\n",
    "\n",
    "mean_absolute_percentage_error(df_past_realized_train['pred'],train['target'].values), r2_score(df_past_realized_train['pred'],train['target'].values)"
   ]
  },
  {
   "cell_type": "code",
   "execution_count": 7,
   "id": "f3e95942",
   "metadata": {},
   "outputs": [
    {
     "data": {
      "text/plain": [
       "3830"
      ]
     },
     "execution_count": 7,
     "metadata": {},
     "output_type": "execute_result"
    }
   ],
   "source": [
    "train[\"time_id\"].nunique()"
   ]
  },
  {
   "cell_type": "code",
   "execution_count": 94,
   "id": "28d69c67",
   "metadata": {},
   "outputs": [],
   "source": [
    "train = pd.read_csv('optiver-realized-volatility-prediction/train.csv')\n",
    "\n",
    "train, test = train_test_split(train, test_size=0.2, random_state=42)"
   ]
  },
  {
   "cell_type": "code",
   "execution_count": 24,
   "id": "explicit-stack",
   "metadata": {
    "execution": {
     "iopub.execute_input": "2021-07-01T10:00:27.995375Z",
     "iopub.status.busy": "2021-07-01T10:00:27.993982Z",
     "iopub.status.idle": "2021-07-01T10:00:29.763803Z",
     "shell.execute_reply": "2021-07-01T10:00:29.764351Z",
     "shell.execute_reply.started": "2021-06-22T18:13:50.129028Z"
    },
    "papermill": {
     "duration": 1.811358,
     "end_time": "2021-07-01T10:00:29.764555",
     "exception": false,
     "start_time": "2021-07-01T10:00:27.953197",
     "status": "completed"
    },
    "tags": []
   },
   "outputs": [],
   "source": [
    "train['row_id'] = train['stock_id'].astype(str) + '-' + train['time_id'].astype(str)\n",
    "# train = train[['row_id','target']]\n",
    "df_joined = train.merge(df_past_realized_train[['row_id','pred']], on = ['row_id'], how = 'left')"
   ]
  },
  {
   "cell_type": "markdown",
   "id": "disciplinary-electricity",
   "metadata": {
    "papermill": {
     "duration": 0.03818,
     "end_time": "2021-07-01T10:00:29.840303",
     "exception": false,
     "start_time": "2021-07-01T10:00:29.802123",
     "status": "completed"
    },
    "tags": []
   },
   "source": [
    "We will evaluate the naive prediction result by two metrics: RMSPE and R squared. "
   ]
  },
  {
   "cell_type": "code",
   "execution_count": 25,
   "id": "scenic-street",
   "metadata": {
    "execution": {
     "iopub.execute_input": "2021-07-01T10:00:29.918198Z",
     "iopub.status.busy": "2021-07-01T10:00:29.917200Z",
     "iopub.status.idle": "2021-07-01T10:00:29.935831Z",
     "shell.execute_reply": "2021-07-01T10:00:29.936358Z",
     "shell.execute_reply.started": "2021-06-22T18:13:54.853239Z"
    },
    "papermill": {
     "duration": 0.059449,
     "end_time": "2021-07-01T10:00:29.936550",
     "exception": false,
     "start_time": "2021-07-01T10:00:29.877101",
     "status": "completed"
    },
    "tags": []
   },
   "outputs": [
    {
     "name": "stdout",
     "output_type": "stream",
     "text": [
      "Performance of the naive prediction: R2 score: 0.628, RMSPE: 0.341\n"
     ]
    }
   ],
   "source": [
    "from sklearn.metrics import r2_score\n",
    "def rmspe(y_true, y_pred):\n",
    "    return  (np.sqrt(np.mean(np.square((y_true - y_pred) / y_true))))\n",
    "R2 = round(r2_score(y_true = df_joined['target'], y_pred = df_joined['pred']),3)\n",
    "RMSPE = round(rmspe(y_true = df_joined['target'], y_pred = df_joined['pred']),3)\n",
    "print(f'Performance of the naive prediction: R2 score: {R2}, RMSPE: {RMSPE}')"
   ]
  },
  {
   "cell_type": "code",
   "execution_count": 97,
   "id": "2365caa1",
   "metadata": {},
   "outputs": [],
   "source": [
    "test['row_id'] = test['stock_id'].astype(str) + '-' + test['time_id'].astype(str)\n",
    "# train = train[['row_id','target']]\n",
    "df_joined = test.merge(df_past_realized_train[['row_id','pred']], on = ['row_id'], how = 'left')"
   ]
  },
  {
   "cell_type": "code",
   "execution_count": 98,
   "id": "93e35e81",
   "metadata": {},
   "outputs": [
    {
     "name": "stdout",
     "output_type": "stream",
     "text": [
      "Performance of the naive prediction: R2 score: 0.617, RMSPE: 0.342\n"
     ]
    }
   ],
   "source": [
    "R2 = round(r2_score(y_true = df_joined['target'], y_pred = df_joined['pred']),3)\n",
    "RMSPE = round(rmspe(y_true = df_joined['target'], y_pred = df_joined['pred']),3)\n",
    "print(f'Performance of the naive prediction: R2 score: {R2}, RMSPE: {RMSPE}')"
   ]
  },
  {
   "cell_type": "markdown",
   "id": "unique-celebrity",
   "metadata": {
    "papermill": {
     "duration": 0.038329,
     "end_time": "2021-07-01T10:00:30.015597",
     "exception": false,
     "start_time": "2021-07-01T10:00:29.977268",
     "status": "completed"
    },
    "tags": []
   },
   "source": [
    "The performance of the naive model is not amazing but as a benchmark it is a reasonable start."
   ]
  },
  {
   "cell_type": "markdown",
   "id": "protective-feeding",
   "metadata": {
    "papermill": {
     "duration": 0.039268,
     "end_time": "2021-07-01T10:00:30.096729",
     "exception": false,
     "start_time": "2021-07-01T10:00:30.057461",
     "status": "completed"
    },
    "tags": []
   },
   "source": [
    "# Submission"
   ]
  },
  {
   "cell_type": "markdown",
   "id": "measured-serum",
   "metadata": {
    "execution": {
     "iopub.execute_input": "2021-06-09T15:25:51.89209Z",
     "iopub.status.busy": "2021-06-09T15:25:51.891717Z",
     "iopub.status.idle": "2021-06-09T15:25:51.898582Z",
     "shell.execute_reply": "2021-06-09T15:25:51.89729Z",
     "shell.execute_reply.started": "2021-06-09T15:25:51.892059Z"
    },
    "papermill": {
     "duration": 0.037045,
     "end_time": "2021-07-01T10:00:30.172395",
     "exception": false,
     "start_time": "2021-07-01T10:00:30.135350",
     "status": "completed"
    },
    "tags": []
   },
   "source": [
    "As a last step, we will make a submission via the tutorial notebook -- through a file written to output folder.  The naive submission scored a RMSPE 0.327 on public LB, the room of improvement is big for sure!"
   ]
  },
  {
   "cell_type": "code",
   "execution_count": null,
   "id": "working-printing",
   "metadata": {
    "execution": {
     "iopub.execute_input": "2021-07-01T10:00:30.252002Z",
     "iopub.status.busy": "2021-07-01T10:00:30.251274Z",
     "iopub.status.idle": "2021-07-01T10:00:30.287910Z",
     "shell.execute_reply": "2021-07-01T10:00:30.287332Z",
     "shell.execute_reply.started": "2021-06-22T18:31:41.736997Z"
    },
    "papermill": {
     "duration": 0.078466,
     "end_time": "2021-07-01T10:00:30.288069",
     "exception": false,
     "start_time": "2021-07-01T10:00:30.209603",
     "status": "completed"
    },
    "tags": []
   },
   "outputs": [
    {
     "name": "stdout",
     "output_type": "stream",
     "text": [
      "  row_id    target\n",
      "0    0-4  0.000294\n"
     ]
    }
   ],
   "source": [
    "list_order_book_file_test = glob.glob('optiver-realized-volatility-prediction/book_test.parquet/*')\n",
    "df_naive_pred_test = past_realized_volatility_per_stock(list_file=list_order_book_file_test,\n",
    "                                                           prediction_column_name='target')\n",
    "df_naive_pred_test.to_csv('submission.csv',index = False)"
   ]
  },
  {
   "cell_type": "markdown",
   "id": "sustainable-differential",
   "metadata": {
    "papermill": {
     "duration": 0.037423,
     "end_time": "2021-07-01T10:00:30.366485",
     "exception": false,
     "start_time": "2021-07-01T10:00:30.329062",
     "status": "completed"
    },
    "tags": []
   },
   "source": [
    "Note that in this competition, there will be only few rows of test data that can be downloaded. The actual evaluation program will run in background after you commit the notebook and manually submit the output. Please check to [code requirement](https://www.kaggle.com/c/optiver-realized-volatility-prediction/overview/code-requirements) for more explanation."
   ]
  },
  {
   "cell_type": "markdown",
   "id": "systematic-ballot",
   "metadata": {
    "papermill": {
     "duration": 0.036667,
     "end_time": "2021-07-01T10:00:30.440163",
     "exception": false,
     "start_time": "2021-07-01T10:00:30.403496",
     "status": "completed"
    },
    "tags": []
   },
   "source": [
    "The private leaderboard will be built against the real market data collected after the training period, therefore the public and private leaderboard data will have zero overlap. It will be exciting to get your model tested against the live market! As this competition will provide a very rich dataset representing market microstructure, there is unlimited amount of signals one can come up with. It is all on you, good luck! We at Optiver are really looking forward to learn from the talented Kaggle community!\n",
    "\n",
    "If you have any question about this notebook or the financial concepts behind it, feel free to ask in the comment section and we will make sure your questions get answered. \n",
    "\n",
    "Good luck!"
   ]
  },
  {
   "cell_type": "code",
   "execution_count": 93,
   "id": "14aad22a",
   "metadata": {},
   "outputs": [],
   "source": [
    "from sklearn.model_selection import train_test_split\n",
    "\n",
    "df_train, df_val = train_test_split(df_joined, test_size=0.2, random_state=42)"
   ]
  },
  {
   "cell_type": "code",
   "execution_count": null,
   "id": "a8b12c83",
   "metadata": {},
   "outputs": [],
   "source": [
    "R2 = round(r2_score(y_true = df_joined['target'], y_pred = df_joined['pred']),3)\n",
    "RMSPE = round(rmspe(y_true = df_joined['target'], y_pred = df_joined['pred']),3)\n",
    "print(f'Performance of the naive prediction: R2 score: {R2}, RMSPE: {RMSPE}')"
   ]
  }
 ],
 "metadata": {
  "kernelspec": {
   "display_name": "nnet",
   "language": "python",
   "name": "python3"
  },
  "language_info": {
   "codemirror_mode": {
    "name": "ipython",
    "version": 3
   },
   "file_extension": ".py",
   "mimetype": "text/x-python",
   "name": "python",
   "nbconvert_exporter": "python",
   "pygments_lexer": "ipython3",
   "version": "3.10.16"
  },
  "papermill": {
   "default_parameters": {},
   "duration": 458.049723,
   "end_time": "2021-07-01T10:00:32.262570",
   "environment_variables": {},
   "exception": null,
   "input_path": "__notebook__.ipynb",
   "output_path": "__notebook__.ipynb",
   "parameters": {},
   "start_time": "2021-07-01T09:52:54.212847",
   "version": "2.3.3"
  }
 },
 "nbformat": 4,
 "nbformat_minor": 5
}
